{
 "cells": [
  {
   "cell_type": "code",
   "execution_count": 1,
   "metadata": {},
   "outputs": [],
   "source": [
    "import pandas as pd\n",
    "import matplotlib.pyplot as plt\n",
    "import seaborn as sns"
   ]
  },
  {
   "cell_type": "code",
   "execution_count": 2,
   "metadata": {},
   "outputs": [],
   "source": [
    "import sys, os\n",
    "\n",
    "#sys.path.append(os.path.abspath(os.path.join(\"../..\")))\n",
    "sys.path.append(os.path.abspath(os.path.join(\"../scripts\")))"
   ]
  },
  {
   "cell_type": "code",
   "execution_count": 3,
   "metadata": {},
   "outputs": [],
   "source": [
    "import explore\n",
    "import plot\n",
    "import clean"
   ]
  },
  {
   "cell_type": "code",
   "execution_count": 4,
   "metadata": {},
   "outputs": [],
   "source": [
    "cleaned = clean.clean()"
   ]
  },
  {
   "cell_type": "markdown",
   "metadata": {},
   "source": [
    "# Import The Data"
   ]
  },
  {
   "cell_type": "code",
   "execution_count": 5,
   "metadata": {},
   "outputs": [],
   "source": [
    "# Data that contains information about the completed orders\n",
    "\n",
    "data_url = explore.get_data_url(\"data/nb.csv\", \"v0\")\n",
    "df_CompleteOrders = pd.read_csv(data_url)"
   ]
  },
  {
   "cell_type": "code",
   "execution_count": 6,
   "metadata": {},
   "outputs": [
    {
     "name": "stdout",
     "output_type": "stream",
     "text": [
      "completed orders data has 536020 rows and 5 columns\n"
     ]
    }
   ],
   "source": [
    "print(\"completed orders data has {} rows and {} columns\".format(df_CompleteOrders.shape[0], df_CompleteOrders.shape[1]))"
   ]
  },
  {
   "cell_type": "code",
   "execution_count": 7,
   "metadata": {},
   "outputs": [
    {
     "name": "stdout",
     "output_type": "stream",
     "text": [
      "<class 'pandas.core.frame.DataFrame'>\n",
      "RangeIndex: 536020 entries, 0 to 536019\n",
      "Data columns (total 5 columns):\n",
      " #   Column            Non-Null Count   Dtype \n",
      "---  ------            --------------   ----- \n",
      " 0   Trip ID           536020 non-null  int64 \n",
      " 1   Trip Origin       536020 non-null  object\n",
      " 2   Trip Destination  536020 non-null  object\n",
      " 3   Trip Start Time   534369 non-null  object\n",
      " 4   Trip End Time     536019 non-null  object\n",
      "dtypes: int64(1), object(4)\n",
      "memory usage: 20.4+ MB\n"
     ]
    }
   ],
   "source": [
    "df_CompleteOrders.info()"
   ]
  },
  {
   "cell_type": "code",
   "execution_count": 8,
   "metadata": {},
   "outputs": [],
   "source": [
    "# able that contains delivery requests by clients (completed and unfulfilled) and driver locations during request\n",
    "\n",
    "data_url = explore.get_data_url(\"data/driver_locations_during_request.csv\", \"v0\")\n",
    "df_driversloc = pd.read_csv(data_url)"
   ]
  },
  {
   "cell_type": "code",
   "execution_count": 9,
   "metadata": {},
   "outputs": [
    {
     "name": "stdout",
     "output_type": "stream",
     "text": [
      "driver locations during request data has 1557740 rows and 8 columns\n"
     ]
    }
   ],
   "source": [
    "print(\"driver locations during request data has {} rows and {} columns\".format(df_driversloc.shape[0], df_driversloc.shape[1]))"
   ]
  },
  {
   "cell_type": "code",
   "execution_count": 10,
   "metadata": {},
   "outputs": [
    {
     "name": "stdout",
     "output_type": "stream",
     "text": [
      "<class 'pandas.core.frame.DataFrame'>\n",
      "RangeIndex: 1557740 entries, 0 to 1557739\n",
      "Data columns (total 8 columns):\n",
      " #   Column         Non-Null Count    Dtype  \n",
      "---  ------         --------------    -----  \n",
      " 0   id             1557740 non-null  int64  \n",
      " 1   order_id       1557740 non-null  int64  \n",
      " 2   driver_id      1557740 non-null  int64  \n",
      " 3   driver_action  1557740 non-null  object \n",
      " 4   lat            1557740 non-null  float64\n",
      " 5   lng            1557740 non-null  float64\n",
      " 6   created_at     0 non-null        float64\n",
      " 7   updated_at     0 non-null        float64\n",
      "dtypes: float64(4), int64(3), object(1)\n",
      "memory usage: 95.1+ MB\n"
     ]
    }
   ],
   "source": [
    "df_driversloc.info()"
   ]
  },
  {
   "cell_type": "markdown",
   "metadata": {},
   "source": [
    "# Missing Values"
   ]
  },
  {
   "cell_type": "code",
   "execution_count": 11,
   "metadata": {},
   "outputs": [
    {
     "name": "stdout",
     "output_type": "stream",
     "text": [
      "Your selected dataframe has 5 columns.\n",
      "There are 2 columns that have missing values.\n"
     ]
    },
    {
     "data": {
      "text/html": [
       "<div>\n",
       "<style scoped>\n",
       "    .dataframe tbody tr th:only-of-type {\n",
       "        vertical-align: middle;\n",
       "    }\n",
       "\n",
       "    .dataframe tbody tr th {\n",
       "        vertical-align: top;\n",
       "    }\n",
       "\n",
       "    .dataframe thead th {\n",
       "        text-align: right;\n",
       "    }\n",
       "</style>\n",
       "<table border=\"1\" class=\"dataframe\">\n",
       "  <thead>\n",
       "    <tr style=\"text-align: right;\">\n",
       "      <th></th>\n",
       "      <th>Missing Values</th>\n",
       "      <th>% of Total Values</th>\n",
       "      <th>Dtype</th>\n",
       "    </tr>\n",
       "  </thead>\n",
       "  <tbody>\n",
       "    <tr>\n",
       "      <th>Trip Start Time</th>\n",
       "      <td>1651</td>\n",
       "      <td>0.3</td>\n",
       "      <td>object</td>\n",
       "    </tr>\n",
       "    <tr>\n",
       "      <th>Trip End Time</th>\n",
       "      <td>1</td>\n",
       "      <td>0.0</td>\n",
       "      <td>object</td>\n",
       "    </tr>\n",
       "  </tbody>\n",
       "</table>\n",
       "</div>"
      ],
      "text/plain": [
       "                 Missing Values  % of Total Values   Dtype\n",
       "Trip Start Time            1651                0.3  object\n",
       "Trip End Time                 1                0.0  object"
      ]
     },
     "execution_count": 11,
     "metadata": {},
     "output_type": "execute_result"
    }
   ],
   "source": [
    "explore.missing_values_table(df_CompleteOrders)"
   ]
  },
  {
   "cell_type": "code",
   "execution_count": 12,
   "metadata": {},
   "outputs": [
    {
     "name": "stdout",
     "output_type": "stream",
     "text": [
      "Your selected dataframe has 5 columns.\n",
      "There are 0 columns that have missing values.\n"
     ]
    },
    {
     "data": {
      "text/html": [
       "<div>\n",
       "<style scoped>\n",
       "    .dataframe tbody tr th:only-of-type {\n",
       "        vertical-align: middle;\n",
       "    }\n",
       "\n",
       "    .dataframe tbody tr th {\n",
       "        vertical-align: top;\n",
       "    }\n",
       "\n",
       "    .dataframe thead th {\n",
       "        text-align: right;\n",
       "    }\n",
       "</style>\n",
       "<table border=\"1\" class=\"dataframe\">\n",
       "  <thead>\n",
       "    <tr style=\"text-align: right;\">\n",
       "      <th></th>\n",
       "      <th>Missing Values</th>\n",
       "      <th>% of Total Values</th>\n",
       "      <th>Dtype</th>\n",
       "    </tr>\n",
       "  </thead>\n",
       "  <tbody>\n",
       "  </tbody>\n",
       "</table>\n",
       "</div>"
      ],
      "text/plain": [
       "Empty DataFrame\n",
       "Columns: [Missing Values, % of Total Values, Dtype]\n",
       "Index: []"
      ]
     },
     "execution_count": 12,
     "metadata": {},
     "output_type": "execute_result"
    }
   ],
   "source": [
    "# missing values are small percentabe. We drop them\n",
    "df_CompleteOrders.dropna(inplace= True)\n",
    "explore.missing_values_table(df_CompleteOrders)"
   ]
  },
  {
   "cell_type": "code",
   "execution_count": 13,
   "metadata": {},
   "outputs": [
    {
     "name": "stdout",
     "output_type": "stream",
     "text": [
      "coordinates value that are filled by '1,1' are 62, which is 0.00% of total values\n"
     ]
    }
   ],
   "source": [
    "# some values for 'Trip Origin' and 'Trip Destination' contain '1,1' which seem like a filler value\n",
    "\n",
    "filler_inx = (df_CompleteOrders['Trip Origin']=='1,1')|(df_CompleteOrders['Trip Destination']=='1,1')\n",
    "\n",
    "x = len(df_CompleteOrders[filler_inx])\n",
    "\n",
    "print(\"coordinates value that are filled by '1,1' are {}, which is {:.2f}% of total values\".format(x, x/len(df_CompleteOrders)))"
   ]
  },
  {
   "cell_type": "code",
   "execution_count": 14,
   "metadata": {},
   "outputs": [],
   "source": [
    "# we can drop these values\n",
    "\n",
    "df_CompleteOrders.drop(df_CompleteOrders[filler_inx].index, inplace= True)"
   ]
  },
  {
   "cell_type": "code",
   "execution_count": 15,
   "metadata": {},
   "outputs": [
    {
     "name": "stdout",
     "output_type": "stream",
     "text": [
      "Your selected dataframe has 8 columns.\n",
      "There are 2 columns that have missing values.\n"
     ]
    },
    {
     "data": {
      "text/html": [
       "<div>\n",
       "<style scoped>\n",
       "    .dataframe tbody tr th:only-of-type {\n",
       "        vertical-align: middle;\n",
       "    }\n",
       "\n",
       "    .dataframe tbody tr th {\n",
       "        vertical-align: top;\n",
       "    }\n",
       "\n",
       "    .dataframe thead th {\n",
       "        text-align: right;\n",
       "    }\n",
       "</style>\n",
       "<table border=\"1\" class=\"dataframe\">\n",
       "  <thead>\n",
       "    <tr style=\"text-align: right;\">\n",
       "      <th></th>\n",
       "      <th>Missing Values</th>\n",
       "      <th>% of Total Values</th>\n",
       "      <th>Dtype</th>\n",
       "    </tr>\n",
       "  </thead>\n",
       "  <tbody>\n",
       "    <tr>\n",
       "      <th>created_at</th>\n",
       "      <td>1557740</td>\n",
       "      <td>100.0</td>\n",
       "      <td>float64</td>\n",
       "    </tr>\n",
       "    <tr>\n",
       "      <th>updated_at</th>\n",
       "      <td>1557740</td>\n",
       "      <td>100.0</td>\n",
       "      <td>float64</td>\n",
       "    </tr>\n",
       "  </tbody>\n",
       "</table>\n",
       "</div>"
      ],
      "text/plain": [
       "            Missing Values  % of Total Values    Dtype\n",
       "created_at         1557740              100.0  float64\n",
       "updated_at         1557740              100.0  float64"
      ]
     },
     "execution_count": 15,
     "metadata": {},
     "output_type": "execute_result"
    }
   ],
   "source": [
    "explore.missing_values_table(df_driversloc)"
   ]
  },
  {
   "cell_type": "code",
   "execution_count": 16,
   "metadata": {},
   "outputs": [
    {
     "name": "stdout",
     "output_type": "stream",
     "text": [
      "Your selected dataframe has 6 columns.\n",
      "There are 0 columns that have missing values.\n"
     ]
    },
    {
     "data": {
      "text/html": [
       "<div>\n",
       "<style scoped>\n",
       "    .dataframe tbody tr th:only-of-type {\n",
       "        vertical-align: middle;\n",
       "    }\n",
       "\n",
       "    .dataframe tbody tr th {\n",
       "        vertical-align: top;\n",
       "    }\n",
       "\n",
       "    .dataframe thead th {\n",
       "        text-align: right;\n",
       "    }\n",
       "</style>\n",
       "<table border=\"1\" class=\"dataframe\">\n",
       "  <thead>\n",
       "    <tr style=\"text-align: right;\">\n",
       "      <th></th>\n",
       "      <th>Missing Values</th>\n",
       "      <th>% of Total Values</th>\n",
       "      <th>Dtype</th>\n",
       "    </tr>\n",
       "  </thead>\n",
       "  <tbody>\n",
       "  </tbody>\n",
       "</table>\n",
       "</div>"
      ],
      "text/plain": [
       "Empty DataFrame\n",
       "Columns: [Missing Values, % of Total Values, Dtype]\n",
       "Index: []"
      ]
     },
     "execution_count": 16,
     "metadata": {},
     "output_type": "execute_result"
    }
   ],
   "source": [
    "# two columns are empty. we drop them\n",
    "\n",
    "df_driversloc.dropna(axis=1, inplace=True)\n",
    "explore.missing_values_table(df_driversloc)"
   ]
  },
  {
   "cell_type": "markdown",
   "metadata": {},
   "source": [
    "# Data Overview"
   ]
  },
  {
   "cell_type": "markdown",
   "metadata": {},
   "source": [
    "We take a look at the data. Types of variables and calculate basic statistics"
   ]
  },
  {
   "cell_type": "code",
   "execution_count": 17,
   "metadata": {},
   "outputs": [
    {
     "data": {
      "text/plain": [
       "Trip ID              int64\n",
       "Trip Origin         object\n",
       "Trip Destination    object\n",
       "Trip Start Time     object\n",
       "Trip End Time       object\n",
       "dtype: object"
      ]
     },
     "execution_count": 17,
     "metadata": {},
     "output_type": "execute_result"
    }
   ],
   "source": [
    "df_CompleteOrders.dtypes"
   ]
  },
  {
   "cell_type": "code",
   "execution_count": 18,
   "metadata": {},
   "outputs": [
    {
     "data": {
      "text/plain": [
       "True"
      ]
     },
     "execution_count": 18,
     "metadata": {},
     "output_type": "execute_result"
    }
   ],
   "source": [
    "# Trip ID should all be unique values\n",
    "\n",
    "df_CompleteOrders['Trip ID'].nunique() == df_CompleteOrders.shape[0]"
   ]
  },
  {
   "cell_type": "code",
   "execution_count": 19,
   "metadata": {},
   "outputs": [],
   "source": [
    "# We change the type of \n",
    "# 1. Time variables to datetime \n",
    "# 2. Origin and Destinations from strings to latitude and longitude\n",
    "\n",
    "\n",
    "clean_orders = pd.DataFrame()\n",
    "\n",
    "clean_orders['trip_id'] = df_CompleteOrders['Trip ID']\n",
    "\n",
    "# change to datetime\n",
    "clean_orders['trip_start_time'] = pd.to_datetime(df_CompleteOrders['Trip Start Time'])\n",
    "clean_orders['trip_end_time'] = pd.to_datetime(df_CompleteOrders['Trip End Time'])\n",
    "\n",
    "# split into latitude longitude\n",
    "clean_orders['origin_lat'] = df_CompleteOrders['Trip Origin'].apply(lambda x: float(x.split(',')[0]))\n",
    "clean_orders['origin_long'] = df_CompleteOrders['Trip Origin'].apply(lambda x: float(x.split(',')[1]))\n",
    "\n",
    "clean_orders['destination_lat'] = df_CompleteOrders['Trip Destination'].apply(lambda x: float(x.split(',')[0]))\n",
    "clean_orders['destination_long'] = df_CompleteOrders['Trip Destination'].apply(lambda x: float(x.split(',')[1]))"
   ]
  },
  {
   "cell_type": "code",
   "execution_count": 20,
   "metadata": {},
   "outputs": [
    {
     "data": {
      "text/html": [
       "<div>\n",
       "<style scoped>\n",
       "    .dataframe tbody tr th:only-of-type {\n",
       "        vertical-align: middle;\n",
       "    }\n",
       "\n",
       "    .dataframe tbody tr th {\n",
       "        vertical-align: top;\n",
       "    }\n",
       "\n",
       "    .dataframe thead th {\n",
       "        text-align: right;\n",
       "    }\n",
       "</style>\n",
       "<table border=\"1\" class=\"dataframe\">\n",
       "  <thead>\n",
       "    <tr style=\"text-align: right;\">\n",
       "      <th></th>\n",
       "      <th>trip_id</th>\n",
       "      <th>origin_lat</th>\n",
       "      <th>origin_long</th>\n",
       "      <th>destination_lat</th>\n",
       "      <th>destination_long</th>\n",
       "    </tr>\n",
       "  </thead>\n",
       "  <tbody>\n",
       "    <tr>\n",
       "      <th>count</th>\n",
       "      <td>5.343060e+05</td>\n",
       "      <td>534306.000000</td>\n",
       "      <td>534306.000000</td>\n",
       "      <td>534306.000000</td>\n",
       "      <td>534306.000000</td>\n",
       "    </tr>\n",
       "    <tr>\n",
       "      <th>mean</th>\n",
       "      <td>9.901071e+05</td>\n",
       "      <td>6.528513</td>\n",
       "      <td>3.397394</td>\n",
       "      <td>6.523700</td>\n",
       "      <td>3.407750</td>\n",
       "    </tr>\n",
       "    <tr>\n",
       "      <th>std</th>\n",
       "      <td>3.454163e+05</td>\n",
       "      <td>0.091202</td>\n",
       "      <td>0.087272</td>\n",
       "      <td>0.093356</td>\n",
       "      <td>0.099802</td>\n",
       "    </tr>\n",
       "    <tr>\n",
       "      <th>min</th>\n",
       "      <td>3.919960e+05</td>\n",
       "      <td>4.859346</td>\n",
       "      <td>2.877515</td>\n",
       "      <td>4.812808</td>\n",
       "      <td>-0.293233</td>\n",
       "    </tr>\n",
       "    <tr>\n",
       "      <th>25%</th>\n",
       "      <td>6.929912e+05</td>\n",
       "      <td>6.450964</td>\n",
       "      <td>3.345037</td>\n",
       "      <td>6.447909</td>\n",
       "      <td>3.346085</td>\n",
       "    </tr>\n",
       "    <tr>\n",
       "      <th>50%</th>\n",
       "      <td>9.898230e+05</td>\n",
       "      <td>6.519571</td>\n",
       "      <td>3.374900</td>\n",
       "      <td>6.507310</td>\n",
       "      <td>3.382388</td>\n",
       "    </tr>\n",
       "    <tr>\n",
       "      <th>75%</th>\n",
       "      <td>1.279748e+06</td>\n",
       "      <td>6.594634</td>\n",
       "      <td>3.456603</td>\n",
       "      <td>6.593282</td>\n",
       "      <td>3.473291</td>\n",
       "    </tr>\n",
       "    <tr>\n",
       "      <th>max</th>\n",
       "      <td>1.637709e+06</td>\n",
       "      <td>9.218182</td>\n",
       "      <td>8.522293</td>\n",
       "      <td>9.056223</td>\n",
       "      <td>8.607887</td>\n",
       "    </tr>\n",
       "  </tbody>\n",
       "</table>\n",
       "</div>"
      ],
      "text/plain": [
       "            trip_id     origin_lat    origin_long  destination_lat  \\\n",
       "count  5.343060e+05  534306.000000  534306.000000    534306.000000   \n",
       "mean   9.901071e+05       6.528513       3.397394         6.523700   \n",
       "std    3.454163e+05       0.091202       0.087272         0.093356   \n",
       "min    3.919960e+05       4.859346       2.877515         4.812808   \n",
       "25%    6.929912e+05       6.450964       3.345037         6.447909   \n",
       "50%    9.898230e+05       6.519571       3.374900         6.507310   \n",
       "75%    1.279748e+06       6.594634       3.456603         6.593282   \n",
       "max    1.637709e+06       9.218182       8.522293         9.056223   \n",
       "\n",
       "       destination_long  \n",
       "count     534306.000000  \n",
       "mean           3.407750  \n",
       "std            0.099802  \n",
       "min           -0.293233  \n",
       "25%            3.346085  \n",
       "50%            3.382388  \n",
       "75%            3.473291  \n",
       "max            8.607887  "
      ]
     },
     "execution_count": 20,
     "metadata": {},
     "output_type": "execute_result"
    }
   ],
   "source": [
    "clean_orders.describe()"
   ]
  },
  {
   "cell_type": "code",
   "execution_count": 21,
   "metadata": {},
   "outputs": [
    {
     "name": "stdout",
     "output_type": "stream",
     "text": [
      "Data on fulfilled orders spans the period from 2021-07-01 06:21:02 to 2022-06-13 10:04:28\n"
     ]
    }
   ],
   "source": [
    "print(\"Data on fulfilled orders spans the period from {} to {}\".format(clean_orders['trip_start_time'].min(), clean_orders['trip_start_time'].max()))"
   ]
  },
  {
   "cell_type": "markdown",
   "metadata": {},
   "source": [
    "# Calculate Trips' distances and time durations"
   ]
  },
  {
   "cell_type": "markdown",
   "metadata": {},
   "source": [
    "## 1. Clean Up latitude and Longitude Data"
   ]
  },
  {
   "cell_type": "markdown",
   "metadata": {},
   "source": [
    "- First we import geopy to handle coordinates\n",
    "- Second compare location data to expected values in Lagos, Nigeria"
   ]
  },
  {
   "cell_type": "code",
   "execution_count": 22,
   "metadata": {},
   "outputs": [],
   "source": [
    "from geopy.geocoders import Nominatim\n",
    "\n",
    "# Initialize Nominatim API\n",
    "geolocator = Nominatim(user_agent=\"MyApp\")"
   ]
  },
  {
   "cell_type": "markdown",
   "metadata": {},
   "source": [
    "boundingbox is a comma separated list of min latitude, max latitude, min longitude, max longitude [see reference](https://nominatim.org/release-docs/develop/api/Output/#boundingbox)"
   ]
  },
  {
   "cell_type": "code",
   "execution_count": 23,
   "metadata": {},
   "outputs": [
    {
     "name": "stdout",
     "output_type": "stream",
     "text": [
      "Locations within Lagos-Nigeria are bounded by these values:\n",
      "latidude: 6.2950575 - 6.6150575 \n",
      "longitude: 3.2341795 - 3.5541795\n",
      "\n",
      "Locations within Nigeria are bounded by these values:\n",
      "latidude: 4.0690959 - 13.885645 \n",
      "longitude: 2.676932 - 14.678014\n"
     ]
    }
   ],
   "source": [
    "location = geolocator.geocode(\"Lagos\")\n",
    "\n",
    "lagos_bbox = location.raw['boundingbox']\n",
    "\n",
    "print(\"Locations within Lagos-Nigeria are bounded by these values:\")\n",
    "print(\"latidude: {} - {} \\nlongitude: {} - {}\".format(*lagos_bbox))\n",
    "\n",
    "\n",
    "\n",
    "location = geolocator.geocode(\"Nigeria\")\n",
    "\n",
    "nigeria_bbox = location.raw['boundingbox']\n",
    "\n",
    "print(\"\\nLocations within Nigeria are bounded by these values:\")\n",
    "print(\"latidude: {} - {} \\nlongitude: {} - {}\".format(*nigeria_bbox))\n"
   ]
  },
  {
   "cell_type": "markdown",
   "metadata": {},
   "source": [
    "Bounds for Lagos-Nigeria should represent soft bounds for our data. We expect locations to be more or less within Lagos bounds.\n",
    "\n",
    "Hard bounds are represented by bounds for the country of Nigeria. No correct value can exceed these bounds"
   ]
  },
  {
   "cell_type": "code",
   "execution_count": 24,
   "metadata": {},
   "outputs": [
    {
     "name": "stdout",
     "output_type": "stream",
     "text": [
      "There are 0 coordinate values out of bounds, accounting to 0.00% of records.\n"
     ]
    }
   ],
   "source": [
    "clean_orders = cleaned.out_bounds(clean_orders, 'origin_lat', 'origin_long', nigeria_bbox)"
   ]
  },
  {
   "cell_type": "code",
   "execution_count": 25,
   "metadata": {},
   "outputs": [
    {
     "name": "stdout",
     "output_type": "stream",
     "text": [
      "For coordinates of trip origin:\n",
      "There are 0 coordinate values out of bounds, accounting to 0.00% of records.\n",
      "For coordinates of trip destination:\n",
      "There are 1 coordinate values out of bounds, accounting to 0.00% of records.\n"
     ]
    }
   ],
   "source": [
    "# We drop trips whose coordinate fall out of Nigeria boundingbox\n",
    "\n",
    "print(\"For coordinates of trip origin:\")\n",
    "clean_orders = cleaned.out_bounds(clean_orders, 'origin_lat', 'origin_long', nigeria_bbox, drop=True)\n",
    "\n",
    "print(\"For coordinates of trip destination:\")\n",
    "clean_orders = cleaned.out_bounds(clean_orders, 'destination_lat', 'destination_long', nigeria_bbox, drop=True)"
   ]
  },
  {
   "cell_type": "code",
   "execution_count": 26,
   "metadata": {},
   "outputs": [
    {
     "name": "stdout",
     "output_type": "stream",
     "text": [
      "For coordinates of trip origin:\n",
      "There are 98891 coordinate values out of bounds, accounting to 0.19% of records.\n",
      "For coordinates of trip destination:\n",
      "There are 118894 coordinate values out of bounds, accounting to 0.22% of records.\n"
     ]
    }
   ],
   "source": [
    "# Trips whose coordinates fall out of Lagos boundingbox\n",
    "\n",
    "print(\"For coordinates of trip origin:\")\n",
    "clean_orders = cleaned.out_bounds(clean_orders, 'origin_lat', 'origin_long', lagos_bbox, drop=False)\n",
    "\n",
    "print(\"For coordinates of trip destination:\")\n",
    "clean_orders = cleaned.out_bounds(clean_orders, 'destination_lat', 'destination_long', lagos_bbox, drop=False)"
   ]
  },
  {
   "cell_type": "markdown",
   "metadata": {},
   "source": [
    "0.35% of Orders come or go to locations outside of Lagos."
   ]
  },
  {
   "cell_type": "code",
   "execution_count": 27,
   "metadata": {},
   "outputs": [
    {
     "name": "stdout",
     "output_type": "stream",
     "text": [
      "There are 0 coordinate values out of bounds, accounting to 0.00% of records.\n"
     ]
    }
   ],
   "source": [
    "# Dirvers whose locations at requests fall out of Nigeria boundingbox\n",
    "\n",
    "df_driversloc = cleaned.out_bounds(df_driversloc , 'lat', 'lng', nigeria_bbox, drop=False)"
   ]
  },
  {
   "cell_type": "code",
   "execution_count": 28,
   "metadata": {},
   "outputs": [
    {
     "name": "stdout",
     "output_type": "stream",
     "text": [
      "There are 124980 coordinate values out of bounds, accounting to 0.08% of records.\n"
     ]
    }
   ],
   "source": [
    "# Dirvers whose locations at requests fall out of Lagos boundingbox\n",
    "\n",
    "df_driversloc = cleaned.out_bounds(df_driversloc , 'lat', 'lng', lagos_bbox, drop=False)"
   ]
  },
  {
   "cell_type": "markdown",
   "metadata": {},
   "source": [
    "## 2. Calculate Trips' Durations"
   ]
  },
  {
   "cell_type": "code",
   "execution_count": 29,
   "metadata": {},
   "outputs": [],
   "source": [
    "clean_orders['trip_duration'] = clean_orders['trip_end_time']- clean_orders['trip_start_time']\n",
    "\n",
    "# trip duration in hours \n",
    "clean_orders['trip_duration_hrs'] = clean_orders['trip_duration'].apply(lambda x: x.seconds/60/60)"
   ]
  },
  {
   "cell_type": "code",
   "execution_count": 30,
   "metadata": {},
   "outputs": [
    {
     "data": {
      "text/plain": [
       "count    534305.000000\n",
       "mean          1.189908\n",
       "std           1.692039\n",
       "min           0.000000\n",
       "25%           0.561389\n",
       "50%           0.882222\n",
       "75%           1.335000\n",
       "max          23.996389\n",
       "Name: trip_duration_hrs, dtype: float64"
      ]
     },
     "execution_count": 30,
     "metadata": {},
     "output_type": "execute_result"
    }
   ],
   "source": [
    "clean_orders['trip_duration_hrs'].describe()"
   ]
  },
  {
   "cell_type": "code",
   "execution_count": 31,
   "metadata": {},
   "outputs": [
    {
     "data": {
      "image/png": "[encoded data removed]",
      "text/plain": [
       "<Figure size 1400x700 with 1 Axes>"
      ]
     },
     "metadata": {},
     "output_type": "display_data"
    }
   ],
   "source": [
    "plot.plot_hist(clean_orders,'trip_duration_hrs', 'red')"
   ]
  },
  {
   "cell_type": "markdown",
   "metadata": {},
   "source": [
    "There are trips whose duration is too short (less than 5 minutes). Could be that these trips were cancelled"
   ]
  },
  {
   "cell_type": "code",
   "execution_count": 33,
   "metadata": {},
   "outputs": [
    {
     "name": "stdout",
     "output_type": "stream",
     "text": [
      "13573 trips have a duration less than 5 minutes, accounting to 0.03% of all orders.\n"
     ]
    }
   ],
   "source": [
    "df = clean_orders[clean_orders['trip_duration_hrs']<5/60]\n",
    "\n",
    "print(\"{} trips have a duration less than 5 minutes, accounting to {:.2f}% of all orders.\".format(len(df), len(df)/len(clean_orders)))"
   ]
  },
  {
   "cell_type": "markdown",
   "metadata": {},
   "source": [
    "## 3. Calculate Trip Distances"
   ]
  },
  {
   "cell_type": "markdown",
   "metadata": {},
   "source": [
    "Since we have latitude-longitude for starting point and end point. we calculate the straight line distance and not the actual distance traveled along roads.\n",
    "\n",
    "- we use geopy liberary for calculating distances from lat-long values\n",
    "\n",
    "- Geopy can calculate geodesic distance between two points using the geodesic distance or the great-circle distance, with a default of the geodesic distance available as the function"
   ]
  },
  {
   "cell_type": "code",
   "execution_count": 34,
   "metadata": {},
   "outputs": [],
   "source": [
    "from geopy import distance"
   ]
  },
  {
   "cell_type": "code",
   "execution_count": 35,
   "metadata": {},
   "outputs": [],
   "source": [
    "clean_orders['distance_km'] = clean_orders.apply(lambda x: distance.distance((x['origin_lat'], x['origin_long']),\n",
    "(x['destination_lat'], x['destination_long'])).km, axis=1)"
   ]
  },
  {
   "cell_type": "code",
   "execution_count": 37,
   "metadata": {},
   "outputs": [
    {
     "data": {
      "text/plain": [
       "count    534305.000000\n",
       "mean         12.023147\n",
       "std           8.451186\n",
       "min           0.000000\n",
       "25%           5.559767\n",
       "50%          10.509524\n",
       "75%          16.992917\n",
       "max         533.747902\n",
       "Name: distance_km, dtype: float64"
      ]
     },
     "execution_count": 37,
     "metadata": {},
     "output_type": "execute_result"
    }
   ],
   "source": [
    "clean_orders['distance_km'].describe()"
   ]
  },
  {
   "cell_type": "code",
   "execution_count": 40,
   "metadata": {},
   "outputs": [
    {
     "data": {
      "image/png": "[encoded data removed]",
      "text/plain": [
       "<Figure size 1400x700 with 1 Axes>"
      ]
     },
     "metadata": {},
     "output_type": "display_data"
    }
   ],
   "source": [
    "plot.plot_hist(clean_orders,'distance_km', 'blue')"
   ]
  },
  {
   "cell_type": "code",
   "execution_count": 41,
   "metadata": {},
   "outputs": [
    {
     "name": "stdout",
     "output_type": "stream",
     "text": [
      "617 trips of less than 100 meters, accounting to 0.00% of all orders.\n"
     ]
    }
   ],
   "source": [
    "df = clean_orders[clean_orders['distance_km']< 0.1]\n",
    "\n",
    "print(\"{} trips of less than 100 meters, accounting to {:.2f}% of all orders.\".format(len(df), len(df)/len(clean_orders)))"
   ]
  },
  {
   "cell_type": "markdown",
   "metadata": {},
   "source": [
    "# Merge order and drivers-location dataframes"
   ]
  },
  {
   "cell_type": "markdown",
   "metadata": {},
   "source": [
    "We need to merge the two dataframes of fulfilled orders and dirvers locations at request to answer questions like:\n",
    "\n",
    "- how many drivers are notified for each rquest?\n",
    "- How far are the Drivers at request?"
   ]
  },
  {
   "cell_type": "code",
   "execution_count": 46,
   "metadata": {},
   "outputs": [
    {
     "name": "stdout",
     "output_type": "stream",
     "text": [
      "<class 'pandas.core.frame.DataFrame'>\n",
      "Int64Index: 534305 entries, 0 to 536019\n",
      "Data columns (total 10 columns):\n",
      " #   Column             Non-Null Count   Dtype          \n",
      "---  ------             --------------   -----          \n",
      " 0   trip_id            534305 non-null  int64          \n",
      " 1   trip_start_time    534305 non-null  datetime64[ns] \n",
      " 2   trip_end_time      534305 non-null  datetime64[ns] \n",
      " 3   origin_lat         534305 non-null  float64        \n",
      " 4   origin_long        534305 non-null  float64        \n",
      " 5   destination_lat    534305 non-null  float64        \n",
      " 6   destination_long   534305 non-null  float64        \n",
      " 7   trip_duration      534305 non-null  timedelta64[ns]\n",
      " 8   trip_duration_hrs  534305 non-null  float64        \n",
      " 9   trip_distance_km   534305 non-null  float64        \n",
      "dtypes: datetime64[ns](2), float64(6), int64(1), timedelta64[ns](1)\n",
      "memory usage: 61.0 MB\n"
     ]
    }
   ],
   "source": [
    "clean_orders.rename(columns={'distance_km': 'trip_distance_km'}, inplace=True)\n",
    "\n",
    "clean_orders.info()"
   ]
  },
  {
   "cell_type": "code",
   "execution_count": 47,
   "metadata": {},
   "outputs": [
    {
     "name": "stdout",
     "output_type": "stream",
     "text": [
      "<class 'pandas.core.frame.DataFrame'>\n",
      "RangeIndex: 1557740 entries, 0 to 1557739\n",
      "Data columns (total 5 columns):\n",
      " #   Column         Non-Null Count    Dtype  \n",
      "---  ------         --------------    -----  \n",
      " 0   order_id       1557740 non-null  int64  \n",
      " 1   driver_id      1557740 non-null  int64  \n",
      " 2   driver_action  1557740 non-null  object \n",
      " 3   driver_lat     1557740 non-null  float64\n",
      " 4   driver_lng     1557740 non-null  float64\n",
      "dtypes: float64(2), int64(2), object(1)\n",
      "memory usage: 59.4+ MB\n"
     ]
    }
   ],
   "source": [
    "df_driversloc.rename(columns={'lat': 'driver_lat', 'lng': 'driver_lng'}, inplace=True)\n",
    "df_driversloc.drop(columns=['id'], inplace=True)\n",
    "\n",
    "df_driversloc.info()"
   ]
  },
  {
   "cell_type": "code",
   "execution_count": 48,
   "metadata": {},
   "outputs": [],
   "source": [
    "df_merged = pd.merge(clean_orders, df_driversloc, how= 'inner', left_on= 'trip_id', right_on= 'order_id')"
   ]
  },
  {
   "cell_type": "code",
   "execution_count": 49,
   "metadata": {},
   "outputs": [
    {
     "name": "stdout",
     "output_type": "stream",
     "text": [
      "<class 'pandas.core.frame.DataFrame'>\n",
      "Int64Index: 1555708 entries, 0 to 1555707\n",
      "Data columns (total 15 columns):\n",
      " #   Column             Non-Null Count    Dtype          \n",
      "---  ------             --------------    -----          \n",
      " 0   trip_id            1555708 non-null  int64          \n",
      " 1   trip_start_time    1555708 non-null  datetime64[ns] \n",
      " 2   trip_end_time      1555708 non-null  datetime64[ns] \n",
      " 3   origin_lat         1555708 non-null  float64        \n",
      " 4   origin_long        1555708 non-null  float64        \n",
      " 5   destination_lat    1555708 non-null  float64        \n",
      " 6   destination_long   1555708 non-null  float64        \n",
      " 7   trip_duration      1555708 non-null  timedelta64[ns]\n",
      " 8   trip_duration_hrs  1555708 non-null  float64        \n",
      " 9   trip_distance_km   1555708 non-null  float64        \n",
      " 10  order_id           1555708 non-null  int64          \n",
      " 11  driver_id          1555708 non-null  int64          \n",
      " 12  driver_action      1555708 non-null  object         \n",
      " 13  driver_lat         1555708 non-null  float64        \n",
      " 14  driver_lng         1555708 non-null  float64        \n",
      "dtypes: datetime64[ns](2), float64(8), int64(3), object(1), timedelta64[ns](1)\n",
      "memory usage: 189.9+ MB\n"
     ]
    }
   ],
   "source": [
    "df_merged.info()"
   ]
  },
  {
   "cell_type": "code",
   "execution_count": null,
   "metadata": {},
   "outputs": [],
   "source": []
  }
 ],
 "metadata": {
  "kernelspec": {
   "display_name": "Python 3.10.6 ('env': venv)",
   "language": "python",
   "name": "python3"
  },
  "language_info": {
   "codemirror_mode": {
    "name": "ipython",
    "version": 3
   },
   "file_extension": ".py",
   "mimetype": "text/x-python",
   "name": "python",
   "nbconvert_exporter": "python",
   "pygments_lexer": "ipython3",
   "version": "3.10.6"
  },
  "orig_nbformat": 4,
  "vscode": {
   "interpreter": {
    "hash": "e85ebbeeaa8a7c21c88793b697ff30de2015360c7a0ae66c7e207f1d4cd52aaf"
   }
  }
 },
 "nbformat": 4,
 "nbformat_minor": 2
}
