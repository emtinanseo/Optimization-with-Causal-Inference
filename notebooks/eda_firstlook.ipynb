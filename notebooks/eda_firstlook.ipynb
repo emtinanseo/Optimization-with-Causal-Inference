{
 "cells": [
  {
   "cell_type": "code",
   "execution_count": 1,
   "metadata": {},
   "outputs": [],
   "source": [
    "import pandas as pd\n",
    "import matplotlib.pyplot as plt\n",
    "import seaborn as sns"
   ]
  },
  {
   "cell_type": "code",
   "execution_count": 2,
   "metadata": {},
   "outputs": [],
   "source": [
    "import sys, os\n",
    "\n",
    "#sys.path.append(os.path.abspath(os.path.join(\"../..\")))\n",
    "sys.path.append(os.path.abspath(os.path.join(\"../scripts\")))"
   ]
  },
  {
   "cell_type": "code",
   "execution_count": 3,
   "metadata": {},
   "outputs": [],
   "source": [
    "import explore"
   ]
  },
  {
   "cell_type": "markdown",
   "metadata": {},
   "source": [
    "# Import The Data"
   ]
  },
  {
   "cell_type": "code",
   "execution_count": 5,
   "metadata": {},
   "outputs": [],
   "source": [
    "# Data that contains information about the completed orders\n",
    "\n",
    "data_url = explore.get_data_url(\"data/nb.csv\", \"v0\")\n",
    "df_orders = pd.read_csv(data_url)"
   ]
  },
  {
   "cell_type": "code",
   "execution_count": 6,
   "metadata": {},
   "outputs": [
    {
     "name": "stdout",
     "output_type": "stream",
     "text": [
      "Orders data has 536020 rows and 5 columns\n"
     ]
    }
   ],
   "source": [
    "print(\"Orders data has {} rows and {} columns\".format(df_orders.shape[0], df_orders.shape[1]))"
   ]
  },
  {
   "cell_type": "code",
   "execution_count": 7,
   "metadata": {},
   "outputs": [
    {
     "name": "stdout",
     "output_type": "stream",
     "text": [
      "<class 'pandas.core.frame.DataFrame'>\n",
      "RangeIndex: 536020 entries, 0 to 536019\n",
      "Data columns (total 5 columns):\n",
      " #   Column            Non-Null Count   Dtype \n",
      "---  ------            --------------   ----- \n",
      " 0   Trip ID           536020 non-null  int64 \n",
      " 1   Trip Origin       536020 non-null  object\n",
      " 2   Trip Destination  536020 non-null  object\n",
      " 3   Trip Start Time   534369 non-null  object\n",
      " 4   Trip End Time     536019 non-null  object\n",
      "dtypes: int64(1), object(4)\n",
      "memory usage: 20.4+ MB\n"
     ]
    }
   ],
   "source": [
    "df_orders.info()"
   ]
  },
  {
   "cell_type": "code",
   "execution_count": 8,
   "metadata": {},
   "outputs": [],
   "source": [
    "# able that contains delivery requests by clients (completed and unfulfilled) and driver locations during request\n",
    "\n",
    "data_url = explore.get_data_url(\"data/driver_locations_during_request.csv\", \"v0\")\n",
    "df_driversloc = pd.read_csv(data_url)"
   ]
  },
  {
   "cell_type": "code",
   "execution_count": 9,
   "metadata": {},
   "outputs": [
    {
     "name": "stdout",
     "output_type": "stream",
     "text": [
      "driver locations during request data has 1557740 rows and 8 columns\n"
     ]
    }
   ],
   "source": [
    "print(\"driver locations during request data has {} rows and {} columns\".format(df_driversloc.shape[0], df_driversloc.shape[1]))"
   ]
  },
  {
   "cell_type": "code",
   "execution_count": 10,
   "metadata": {},
   "outputs": [
    {
     "name": "stdout",
     "output_type": "stream",
     "text": [
      "<class 'pandas.core.frame.DataFrame'>\n",
      "RangeIndex: 1557740 entries, 0 to 1557739\n",
      "Data columns (total 8 columns):\n",
      " #   Column         Non-Null Count    Dtype  \n",
      "---  ------         --------------    -----  \n",
      " 0   id             1557740 non-null  int64  \n",
      " 1   order_id       1557740 non-null  int64  \n",
      " 2   driver_id      1557740 non-null  int64  \n",
      " 3   driver_action  1557740 non-null  object \n",
      " 4   lat            1557740 non-null  float64\n",
      " 5   lng            1557740 non-null  float64\n",
      " 6   created_at     0 non-null        float64\n",
      " 7   updated_at     0 non-null        float64\n",
      "dtypes: float64(4), int64(3), object(1)\n",
      "memory usage: 95.1+ MB\n"
     ]
    }
   ],
   "source": [
    "df_driversloc.info()"
   ]
  },
  {
   "cell_type": "markdown",
   "metadata": {},
   "source": [
    "# Missing Values"
   ]
  },
  {
   "cell_type": "code",
   "execution_count": 11,
   "metadata": {},
   "outputs": [
    {
     "name": "stdout",
     "output_type": "stream",
     "text": [
      "Your selected dataframe has 5 columns.\n",
      "There are 2 columns that have missing values.\n"
     ]
    },
    {
     "data": {
      "text/html": [
       "<div>\n",
       "<style scoped>\n",
       "    .dataframe tbody tr th:only-of-type {\n",
       "        vertical-align: middle;\n",
       "    }\n",
       "\n",
       "    .dataframe tbody tr th {\n",
       "        vertical-align: top;\n",
       "    }\n",
       "\n",
       "    .dataframe thead th {\n",
       "        text-align: right;\n",
       "    }\n",
       "</style>\n",
       "<table border=\"1\" class=\"dataframe\">\n",
       "  <thead>\n",
       "    <tr style=\"text-align: right;\">\n",
       "      <th></th>\n",
       "      <th>Missing Values</th>\n",
       "      <th>% of Total Values</th>\n",
       "      <th>Dtype</th>\n",
       "    </tr>\n",
       "  </thead>\n",
       "  <tbody>\n",
       "    <tr>\n",
       "      <th>Trip Start Time</th>\n",
       "      <td>1651</td>\n",
       "      <td>0.3</td>\n",
       "      <td>object</td>\n",
       "    </tr>\n",
       "    <tr>\n",
       "      <th>Trip End Time</th>\n",
       "      <td>1</td>\n",
       "      <td>0.0</td>\n",
       "      <td>object</td>\n",
       "    </tr>\n",
       "  </tbody>\n",
       "</table>\n",
       "</div>"
      ],
      "text/plain": [
       "                 Missing Values  % of Total Values   Dtype\n",
       "Trip Start Time            1651                0.3  object\n",
       "Trip End Time                 1                0.0  object"
      ]
     },
     "execution_count": 11,
     "metadata": {},
     "output_type": "execute_result"
    }
   ],
   "source": [
    "explore.missing_values_table(df_orders)"
   ]
  },
  {
   "cell_type": "code",
   "execution_count": 12,
   "metadata": {},
   "outputs": [],
   "source": [
    "# Null start or end time might signify a non fulfilled order\n",
    "\n",
    "df_orders['missing_dates'] = 0\n",
    "\n",
    "indx = df_orders['Trip Start Time'].isna() | df_orders['Trip End Time'].isna()\n",
    "\n",
    "df_orders.loc[indx, 'missing_dates'] = 1"
   ]
  },
  {
   "cell_type": "code",
   "execution_count": 17,
   "metadata": {},
   "outputs": [
    {
     "name": "stdout",
     "output_type": "stream",
     "text": [
      "coordinates value that are filled by '1,1' are 62, which is 0.00% of total values\n"
     ]
    }
   ],
   "source": [
    "# some values for 'Trip Origin' and 'Trip Destination' contain '1,1' which seem like a filler value\n",
    "\n",
    "filler_inx = (df_orders['Trip Origin']=='1,1')|(df_orders['Trip Destination']=='1,1')\n",
    "\n",
    "x = len(df_orders[filler_inx])\n",
    "\n",
    "print(\"coordinates value that are filled by '1,1' are {}, which is {:.2f}% of total values\".format(x, x/len(df_orders)))"
   ]
  },
  {
   "cell_type": "code",
   "execution_count": 18,
   "metadata": {},
   "outputs": [],
   "source": [
    "# we can drop these values\n",
    "\n",
    "df_orders.drop(df_orders[filler_inx].index, inplace= True)"
   ]
  },
  {
   "cell_type": "code",
   "execution_count": 19,
   "metadata": {},
   "outputs": [
    {
     "name": "stdout",
     "output_type": "stream",
     "text": [
      "Your selected dataframe has 8 columns.\n",
      "There are 2 columns that have missing values.\n"
     ]
    },
    {
     "data": {
      "text/html": [
       "<div>\n",
       "<style scoped>\n",
       "    .dataframe tbody tr th:only-of-type {\n",
       "        vertical-align: middle;\n",
       "    }\n",
       "\n",
       "    .dataframe tbody tr th {\n",
       "        vertical-align: top;\n",
       "    }\n",
       "\n",
       "    .dataframe thead th {\n",
       "        text-align: right;\n",
       "    }\n",
       "</style>\n",
       "<table border=\"1\" class=\"dataframe\">\n",
       "  <thead>\n",
       "    <tr style=\"text-align: right;\">\n",
       "      <th></th>\n",
       "      <th>Missing Values</th>\n",
       "      <th>% of Total Values</th>\n",
       "      <th>Dtype</th>\n",
       "    </tr>\n",
       "  </thead>\n",
       "  <tbody>\n",
       "    <tr>\n",
       "      <th>created_at</th>\n",
       "      <td>1557740</td>\n",
       "      <td>100.0</td>\n",
       "      <td>float64</td>\n",
       "    </tr>\n",
       "    <tr>\n",
       "      <th>updated_at</th>\n",
       "      <td>1557740</td>\n",
       "      <td>100.0</td>\n",
       "      <td>float64</td>\n",
       "    </tr>\n",
       "  </tbody>\n",
       "</table>\n",
       "</div>"
      ],
      "text/plain": [
       "            Missing Values  % of Total Values    Dtype\n",
       "created_at         1557740              100.0  float64\n",
       "updated_at         1557740              100.0  float64"
      ]
     },
     "execution_count": 19,
     "metadata": {},
     "output_type": "execute_result"
    }
   ],
   "source": [
    "explore.missing_values_table(df_driversloc)"
   ]
  },
  {
   "cell_type": "code",
   "execution_count": 20,
   "metadata": {},
   "outputs": [
    {
     "name": "stdout",
     "output_type": "stream",
     "text": [
      "Your selected dataframe has 6 columns.\n",
      "There are 0 columns that have missing values.\n"
     ]
    },
    {
     "data": {
      "text/html": [
       "<div>\n",
       "<style scoped>\n",
       "    .dataframe tbody tr th:only-of-type {\n",
       "        vertical-align: middle;\n",
       "    }\n",
       "\n",
       "    .dataframe tbody tr th {\n",
       "        vertical-align: top;\n",
       "    }\n",
       "\n",
       "    .dataframe thead th {\n",
       "        text-align: right;\n",
       "    }\n",
       "</style>\n",
       "<table border=\"1\" class=\"dataframe\">\n",
       "  <thead>\n",
       "    <tr style=\"text-align: right;\">\n",
       "      <th></th>\n",
       "      <th>Missing Values</th>\n",
       "      <th>% of Total Values</th>\n",
       "      <th>Dtype</th>\n",
       "    </tr>\n",
       "  </thead>\n",
       "  <tbody>\n",
       "  </tbody>\n",
       "</table>\n",
       "</div>"
      ],
      "text/plain": [
       "Empty DataFrame\n",
       "Columns: [Missing Values, % of Total Values, Dtype]\n",
       "Index: []"
      ]
     },
     "execution_count": 20,
     "metadata": {},
     "output_type": "execute_result"
    }
   ],
   "source": [
    "# two columns are empty. we drop them\n",
    "\n",
    "df_driversloc.dropna(axis=1, inplace=True)\n",
    "explore.missing_values_table(df_driversloc)"
   ]
  },
  {
   "cell_type": "markdown",
   "metadata": {},
   "source": [
    "# Data Overview"
   ]
  },
  {
   "cell_type": "markdown",
   "metadata": {},
   "source": [
    "We take a look at the data. Types of variables and calculate basic statistics"
   ]
  },
  {
   "cell_type": "markdown",
   "metadata": {},
   "source": [
    "## 1. Data on Orders"
   ]
  },
  {
   "cell_type": "code",
   "execution_count": 21,
   "metadata": {},
   "outputs": [
    {
     "data": {
      "text/plain": [
       "Trip ID              int64\n",
       "Trip Origin         object\n",
       "Trip Destination    object\n",
       "Trip Start Time     object\n",
       "Trip End Time       object\n",
       "missing_dates        int64\n",
       "dtype: object"
      ]
     },
     "execution_count": 21,
     "metadata": {},
     "output_type": "execute_result"
    }
   ],
   "source": [
    "df_orders.dtypes"
   ]
  },
  {
   "cell_type": "code",
   "execution_count": 22,
   "metadata": {},
   "outputs": [
    {
     "data": {
      "text/plain": [
       "True"
      ]
     },
     "execution_count": 22,
     "metadata": {},
     "output_type": "execute_result"
    }
   ],
   "source": [
    "# Trip ID should all be unique values\n",
    "\n",
    "df_orders['Trip ID'].nunique() == df_orders.shape[0]"
   ]
  },
  {
   "cell_type": "code",
   "execution_count": 25,
   "metadata": {},
   "outputs": [],
   "source": [
    "# We divide the df on whether the order has missing dates\n",
    "\n",
    "df_complete_orders = df_orders[df_orders['missing_dates']==0]\n",
    "\n",
    "df_missing_orders = df_orders[df_orders['missing_dates']==1]"
   ]
  },
  {
   "cell_type": "code",
   "execution_count": 24,
   "metadata": {},
   "outputs": [],
   "source": [
    "completed_order_id = df_complete_orders['Trip ID'].unique()\n",
    "missingdates_order_id = df_missing_orders['Trip ID'].unique()"
   ]
  },
  {
   "cell_type": "code",
   "execution_count": 27,
   "metadata": {},
   "outputs": [],
   "source": [
    "# We change the type of \n",
    "# 1. Time variables to datetime \n",
    "# 2. Origin and Destinations from strings to latitude and longitude\n",
    "\n",
    "\n",
    "complete_orders = pd.DataFrame()\n",
    "\n",
    "complete_orders['trip_id'] = df_complete_orders['Trip ID']\n",
    "\n",
    "# change to datetime\n",
    "complete_orders['trip_start_time'] = pd.to_datetime(df_complete_orders['Trip Start Time'])\n",
    "complete_orders['trip_end_time'] = pd.to_datetime(df_complete_orders['Trip End Time'])\n",
    "\n",
    "# split into latitude longitude\n",
    "complete_orders['origin_lat'] = df_complete_orders['Trip Origin'].apply(lambda x: float(x.split(',')[0]))\n",
    "complete_orders['origin_lng'] = df_complete_orders['Trip Origin'].apply(lambda x: float(x.split(',')[1]))\n",
    "\n",
    "complete_orders['destination_lat'] = df_complete_orders['Trip Destination'].apply(lambda x: float(x.split(',')[0]))\n",
    "complete_orders['destination_lng'] = df_complete_orders['Trip Destination'].apply(lambda x: float(x.split(',')[1]))"
   ]
  },
  {
   "cell_type": "code",
   "execution_count": 28,
   "metadata": {},
   "outputs": [
    {
     "data": {
      "text/html": [
       "<div>\n",
       "<style scoped>\n",
       "    .dataframe tbody tr th:only-of-type {\n",
       "        vertical-align: middle;\n",
       "    }\n",
       "\n",
       "    .dataframe tbody tr th {\n",
       "        vertical-align: top;\n",
       "    }\n",
       "\n",
       "    .dataframe thead th {\n",
       "        text-align: right;\n",
       "    }\n",
       "</style>\n",
       "<table border=\"1\" class=\"dataframe\">\n",
       "  <thead>\n",
       "    <tr style=\"text-align: right;\">\n",
       "      <th></th>\n",
       "      <th>trip_id</th>\n",
       "      <th>origin_lat</th>\n",
       "      <th>origin_lng</th>\n",
       "      <th>destination_lat</th>\n",
       "      <th>destination_lng</th>\n",
       "    </tr>\n",
       "  </thead>\n",
       "  <tbody>\n",
       "    <tr>\n",
       "      <th>count</th>\n",
       "      <td>5.343060e+05</td>\n",
       "      <td>534306.000000</td>\n",
       "      <td>534306.000000</td>\n",
       "      <td>534306.000000</td>\n",
       "      <td>534306.000000</td>\n",
       "    </tr>\n",
       "    <tr>\n",
       "      <th>mean</th>\n",
       "      <td>9.901071e+05</td>\n",
       "      <td>6.528513</td>\n",
       "      <td>3.397394</td>\n",
       "      <td>6.523700</td>\n",
       "      <td>3.407750</td>\n",
       "    </tr>\n",
       "    <tr>\n",
       "      <th>std</th>\n",
       "      <td>3.454163e+05</td>\n",
       "      <td>0.091202</td>\n",
       "      <td>0.087272</td>\n",
       "      <td>0.093356</td>\n",
       "      <td>0.099802</td>\n",
       "    </tr>\n",
       "    <tr>\n",
       "      <th>min</th>\n",
       "      <td>3.919960e+05</td>\n",
       "      <td>4.859346</td>\n",
       "      <td>2.877515</td>\n",
       "      <td>4.812808</td>\n",
       "      <td>-0.293233</td>\n",
       "    </tr>\n",
       "    <tr>\n",
       "      <th>25%</th>\n",
       "      <td>6.929912e+05</td>\n",
       "      <td>6.450964</td>\n",
       "      <td>3.345037</td>\n",
       "      <td>6.447909</td>\n",
       "      <td>3.346085</td>\n",
       "    </tr>\n",
       "    <tr>\n",
       "      <th>50%</th>\n",
       "      <td>9.898230e+05</td>\n",
       "      <td>6.519571</td>\n",
       "      <td>3.374900</td>\n",
       "      <td>6.507310</td>\n",
       "      <td>3.382388</td>\n",
       "    </tr>\n",
       "    <tr>\n",
       "      <th>75%</th>\n",
       "      <td>1.279748e+06</td>\n",
       "      <td>6.594634</td>\n",
       "      <td>3.456603</td>\n",
       "      <td>6.593282</td>\n",
       "      <td>3.473291</td>\n",
       "    </tr>\n",
       "    <tr>\n",
       "      <th>max</th>\n",
       "      <td>1.637709e+06</td>\n",
       "      <td>9.218182</td>\n",
       "      <td>8.522293</td>\n",
       "      <td>9.056223</td>\n",
       "      <td>8.607887</td>\n",
       "    </tr>\n",
       "  </tbody>\n",
       "</table>\n",
       "</div>"
      ],
      "text/plain": [
       "            trip_id     origin_lat     origin_lng  destination_lat  \\\n",
       "count  5.343060e+05  534306.000000  534306.000000    534306.000000   \n",
       "mean   9.901071e+05       6.528513       3.397394         6.523700   \n",
       "std    3.454163e+05       0.091202       0.087272         0.093356   \n",
       "min    3.919960e+05       4.859346       2.877515         4.812808   \n",
       "25%    6.929912e+05       6.450964       3.345037         6.447909   \n",
       "50%    9.898230e+05       6.519571       3.374900         6.507310   \n",
       "75%    1.279748e+06       6.594634       3.456603         6.593282   \n",
       "max    1.637709e+06       9.218182       8.522293         9.056223   \n",
       "\n",
       "       destination_lng  \n",
       "count    534306.000000  \n",
       "mean          3.407750  \n",
       "std           0.099802  \n",
       "min          -0.293233  \n",
       "25%           3.346085  \n",
       "50%           3.382388  \n",
       "75%           3.473291  \n",
       "max           8.607887  "
      ]
     },
     "execution_count": 28,
     "metadata": {},
     "output_type": "execute_result"
    }
   ],
   "source": [
    "complete_orders.describe()"
   ]
  },
  {
   "cell_type": "code",
   "execution_count": 29,
   "metadata": {},
   "outputs": [
    {
     "name": "stdout",
     "output_type": "stream",
     "text": [
      "Data on fulfilled orders spans the period from 2021-07-01 06:21:02 to 2022-06-13 10:04:28\n"
     ]
    }
   ],
   "source": [
    "print(\"Data on fulfilled orders spans the period from {} to {}\".format(complete_orders['trip_start_time'].min(), \n",
    "complete_orders['trip_start_time'].max()))"
   ]
  },
  {
   "cell_type": "code",
   "execution_count": 30,
   "metadata": {},
   "outputs": [],
   "source": [
    "# For orders that miss dates we change:\n",
    "# - Origin and Destinations from strings to latitude and longitude\n",
    "\n",
    "\n",
    "miss_orders = pd.DataFrame()\n",
    "\n",
    "miss_orders['trip_id'] = df_missing_orders['Trip ID']\n",
    "\n",
    "# split into latitude longitude\n",
    "miss_orders['origin_lat'] = df_missing_orders['Trip Origin'].apply(lambda x: float(x.split(',')[0]))\n",
    "miss_orders['origin_long'] = df_missing_orders['Trip Origin'].apply(lambda x: float(x.split(',')[1]))\n",
    "\n",
    "miss_orders['destination_lat'] = df_missing_orders['Trip Destination'].apply(lambda x: float(x.split(',')[0]))\n",
    "miss_orders['destination_long'] = df_missing_orders['Trip Destination'].apply(lambda x: float(x.split(',')[1]))"
   ]
  },
  {
   "cell_type": "code",
   "execution_count": 31,
   "metadata": {},
   "outputs": [
    {
     "data": {
      "text/html": [
       "<div>\n",
       "<style scoped>\n",
       "    .dataframe tbody tr th:only-of-type {\n",
       "        vertical-align: middle;\n",
       "    }\n",
       "\n",
       "    .dataframe tbody tr th {\n",
       "        vertical-align: top;\n",
       "    }\n",
       "\n",
       "    .dataframe thead th {\n",
       "        text-align: right;\n",
       "    }\n",
       "</style>\n",
       "<table border=\"1\" class=\"dataframe\">\n",
       "  <thead>\n",
       "    <tr style=\"text-align: right;\">\n",
       "      <th></th>\n",
       "      <th>trip_id</th>\n",
       "      <th>origin_lat</th>\n",
       "      <th>origin_long</th>\n",
       "      <th>destination_lat</th>\n",
       "      <th>destination_long</th>\n",
       "    </tr>\n",
       "  </thead>\n",
       "  <tbody>\n",
       "    <tr>\n",
       "      <th>count</th>\n",
       "      <td>1.652000e+03</td>\n",
       "      <td>1652.000000</td>\n",
       "      <td>1652.000000</td>\n",
       "      <td>1652.000000</td>\n",
       "      <td>1652.000000</td>\n",
       "    </tr>\n",
       "    <tr>\n",
       "      <th>mean</th>\n",
       "      <td>1.293932e+06</td>\n",
       "      <td>7.221046</td>\n",
       "      <td>3.786585</td>\n",
       "      <td>7.219593</td>\n",
       "      <td>3.789560</td>\n",
       "    </tr>\n",
       "    <tr>\n",
       "      <th>std</th>\n",
       "      <td>2.788812e+05</td>\n",
       "      <td>0.380039</td>\n",
       "      <td>0.214001</td>\n",
       "      <td>0.380467</td>\n",
       "      <td>0.215525</td>\n",
       "    </tr>\n",
       "    <tr>\n",
       "      <th>min</th>\n",
       "      <td>3.931930e+05</td>\n",
       "      <td>6.422819</td>\n",
       "      <td>3.192377</td>\n",
       "      <td>6.405968</td>\n",
       "      <td>3.125112</td>\n",
       "    </tr>\n",
       "    <tr>\n",
       "      <th>25%</th>\n",
       "      <td>1.249252e+06</td>\n",
       "      <td>7.364181</td>\n",
       "      <td>3.860555</td>\n",
       "      <td>7.350632</td>\n",
       "      <td>3.857426</td>\n",
       "    </tr>\n",
       "    <tr>\n",
       "      <th>50%</th>\n",
       "      <td>1.368064e+06</td>\n",
       "      <td>7.410068</td>\n",
       "      <td>3.890328</td>\n",
       "      <td>7.405548</td>\n",
       "      <td>3.890128</td>\n",
       "    </tr>\n",
       "    <tr>\n",
       "      <th>75%</th>\n",
       "      <td>1.471976e+06</td>\n",
       "      <td>7.428348</td>\n",
       "      <td>3.908526</td>\n",
       "      <td>7.433988</td>\n",
       "      <td>3.911522</td>\n",
       "    </tr>\n",
       "    <tr>\n",
       "      <th>max</th>\n",
       "      <td>1.637091e+06</td>\n",
       "      <td>7.533172</td>\n",
       "      <td>4.008998</td>\n",
       "      <td>7.543277</td>\n",
       "      <td>4.011485</td>\n",
       "    </tr>\n",
       "  </tbody>\n",
       "</table>\n",
       "</div>"
      ],
      "text/plain": [
       "            trip_id   origin_lat  origin_long  destination_lat  \\\n",
       "count  1.652000e+03  1652.000000  1652.000000      1652.000000   \n",
       "mean   1.293932e+06     7.221046     3.786585         7.219593   \n",
       "std    2.788812e+05     0.380039     0.214001         0.380467   \n",
       "min    3.931930e+05     6.422819     3.192377         6.405968   \n",
       "25%    1.249252e+06     7.364181     3.860555         7.350632   \n",
       "50%    1.368064e+06     7.410068     3.890328         7.405548   \n",
       "75%    1.471976e+06     7.428348     3.908526         7.433988   \n",
       "max    1.637091e+06     7.533172     4.008998         7.543277   \n",
       "\n",
       "       destination_long  \n",
       "count       1652.000000  \n",
       "mean           3.789560  \n",
       "std            0.215525  \n",
       "min            3.125112  \n",
       "25%            3.857426  \n",
       "50%            3.890128  \n",
       "75%            3.911522  \n",
       "max            4.011485  "
      ]
     },
     "execution_count": 31,
     "metadata": {},
     "output_type": "execute_result"
    }
   ],
   "source": [
    "miss_orders.describe()"
   ]
  },
  {
   "cell_type": "markdown",
   "metadata": {},
   "source": [
    "## 2. Data on Drivers Locations"
   ]
  },
  {
   "cell_type": "code",
   "execution_count": 33,
   "metadata": {},
   "outputs": [
    {
     "data": {
      "text/plain": [
       "array([      1,       2,       3, ..., 1557738, 1557739, 1557740])"
      ]
     },
     "execution_count": 33,
     "metadata": {},
     "output_type": "execute_result"
    }
   ],
   "source": [
    "# The column 'id' doesn't seem to indicate anything aside from being a simple index\n",
    "\n",
    "df_driversloc['id'].unique()"
   ]
  },
  {
   "cell_type": "code",
   "execution_count": 34,
   "metadata": {},
   "outputs": [
    {
     "name": "stdout",
     "output_type": "stream",
     "text": [
      "<class 'pandas.core.frame.DataFrame'>\n",
      "Int64Index: 718826 entries, 0 to 1557731\n",
      "Data columns (total 5 columns):\n",
      " #   Column         Non-Null Count   Dtype  \n",
      "---  ------         --------------   -----  \n",
      " 0   order_id       718826 non-null  int64  \n",
      " 1   driver_id      718826 non-null  int64  \n",
      " 2   driver_action  718826 non-null  object \n",
      " 3   lat            718826 non-null  float64\n",
      " 4   lng            718826 non-null  float64\n",
      "dtypes: float64(2), int64(2), object(1)\n",
      "memory usage: 32.9+ MB\n"
     ]
    }
   ],
   "source": [
    "# dropping the column 'id' reveal that the data have duplicates\n",
    "\n",
    "clean_driversloc = df_driversloc.drop(columns=['id']).drop_duplicates()\n",
    "\n",
    "clean_driversloc.info()"
   ]
  },
  {
   "cell_type": "code",
   "execution_count": 35,
   "metadata": {},
   "outputs": [
    {
     "name": "stdout",
     "output_type": "stream",
     "text": [
      "0.54% of drivers data was duplicated.\n"
     ]
    }
   ],
   "source": [
    "print(\"{:.2f}% of drivers data was duplicated.\".format(1-len(clean_driversloc)/len(df_driversloc)))"
   ]
  },
  {
   "cell_type": "markdown",
   "metadata": {},
   "source": [
    "## 3. Unfulfilled Orders\n",
    "\n",
    "We are looking for unfulfilled orders within the data. There are a couple of possibilities:\n",
    "\n",
    "1. order_id values missing from the table for completed orders.\n",
    "2. order_id values for which no \"accepted\" driver_action exists\n",
    "3. 'trip id' values that had no associated 'start trip time'"
   ]
  },
  {
   "cell_type": "markdown",
   "metadata": {},
   "source": [
    "### 1. order_id values missing from the table for completed orders."
   ]
  },
  {
   "cell_type": "code",
   "execution_count": 36,
   "metadata": {},
   "outputs": [
    {
     "data": {
      "text/plain": [
       "26492"
      ]
     },
     "execution_count": 36,
     "metadata": {},
     "output_type": "execute_result"
    }
   ],
   "source": [
    "driver_orderid = clean_driversloc['order_id'].unique()\n",
    "len(driver_orderid)"
   ]
  },
  {
   "cell_type": "code",
   "execution_count": 53,
   "metadata": {},
   "outputs": [
    {
     "data": {
      "text/plain": [
       "39"
      ]
     },
     "execution_count": 53,
     "metadata": {},
     "output_type": "execute_result"
    }
   ],
   "source": [
    "# order_id values missing from the table for completed orders\n",
    "\n",
    "not_completed_1 = list(set(driver_orderid)-set(completed_order_id))\n",
    "len(not_completed_1)"
   ]
  },
  {
   "cell_type": "markdown",
   "metadata": {},
   "source": [
    "### 2. order_id values for which no \"accepted\" driver_action exists"
   ]
  },
  {
   "cell_type": "code",
   "execution_count": 44,
   "metadata": {},
   "outputs": [
    {
     "data": {
      "text/plain": [
       "25881"
      ]
     },
     "execution_count": 44,
     "metadata": {},
     "output_type": "execute_result"
    }
   ],
   "source": [
    "# orders that hase be accepted at least once\n",
    "accepted_orders = clean_driversloc.loc[clean_driversloc['driver_action']=='accepted', 'order_id'].unique()\n",
    "len(accepted_orders)"
   ]
  },
  {
   "cell_type": "code",
   "execution_count": 61,
   "metadata": {},
   "outputs": [
    {
     "data": {
      "text/plain": [
       "611"
      ]
     },
     "execution_count": 61,
     "metadata": {},
     "output_type": "execute_result"
    }
   ],
   "source": [
    "# orders that were never accepted (in our table)\n",
    "\n",
    "not_completed_2 = list(set(driver_orderid)-set(accepted_orders))\n",
    "len(not_completed_2)"
   ]
  },
  {
   "cell_type": "markdown",
   "metadata": {},
   "source": [
    "### 3. 'trip id' values that had no associated 'start trip time'"
   ]
  },
  {
   "cell_type": "code",
   "execution_count": 69,
   "metadata": {},
   "outputs": [],
   "source": [
    "not_completed_3 = missingdates_order_id"
   ]
  },
  {
   "cell_type": "markdown",
   "metadata": {},
   "source": [
    "### Discussion"
   ]
  },
  {
   "cell_type": "markdown",
   "metadata": {},
   "source": [
    "If all assumptions are correct and not in contradition, the not_completed_1, not_completed_2 and not_completed_3 will be subsets of the unfulfilled orders.\n",
    "\n",
    "Here we look if there are contradtictions:"
   ]
  },
  {
   "cell_type": "code",
   "execution_count": 59,
   "metadata": {},
   "outputs": [
    {
     "name": "stdout",
     "output_type": "stream",
     "text": [
      "is our test successful?  False\n"
     ]
    }
   ],
   "source": [
    "# Was any of the  orders missing from completed order table ever accepted by drivers\n",
    "\n",
    "test = list(set(not_completed_1) - set(accepted_orders)) \n",
    "print(\"is our test successful? \", len(test)==len(not_completed_1))"
   ]
  },
  {
   "cell_type": "code",
   "execution_count": 63,
   "metadata": {},
   "outputs": [
    {
     "name": "stdout",
     "output_type": "stream",
     "text": [
      "is our test successful?  False\n"
     ]
    }
   ],
   "source": [
    "# Was any of the orders that were never accepted in drivers table mentioned as completed in complete_order table\n",
    "\n",
    "test = list(set(not_completed_2) - set(completed_order_id)) \n",
    "print(\"is our test successful? \", len(test)==len(not_completed_2))"
   ]
  },
  {
   "cell_type": "code",
   "execution_count": 64,
   "metadata": {},
   "outputs": [
    {
     "data": {
      "text/plain": [
       "5"
      ]
     },
     "execution_count": 64,
     "metadata": {},
     "output_type": "execute_result"
    }
   ],
   "source": [
    "test = list(set(not_completed_1) - set(missingdates_order_id)) \n",
    "len(test)"
   ]
  },
  {
   "cell_type": "markdown",
   "metadata": {},
   "source": [
    "There is a contradiction between definition 1 and 2 as well as a significant overlap between definition 1 and 3.\n",
    "\n",
    "We conclude -we choose- to take definition 1 and 3 as different representation of unfulfilled order\n",
    "\n",
    "\n",
    "**unfulfilled orders are the order which are not included in the complete_order table.**"
   ]
  },
  {
   "cell_type": "markdown",
   "metadata": {},
   "source": []
  },
  {
   "cell_type": "markdown",
   "metadata": {},
   "source": [
    "## 4. Label Unfulfilled Orders"
   ]
  },
  {
   "cell_type": "code",
   "execution_count": 76,
   "metadata": {},
   "outputs": [],
   "source": [
    "clean_driversloc['fulfilled'] =clean_driversloc['order_id'].apply(lambda x: 0 if x in not_completed_1 else 1)"
   ]
  },
  {
   "cell_type": "markdown",
   "metadata": {},
   "source": [
    "# Write Data"
   ]
  },
  {
   "cell_type": "code",
   "execution_count": 83,
   "metadata": {},
   "outputs": [],
   "source": [
    "complete_orders.to_csv('../data/complete_orders.csv', index=False)"
   ]
  },
  {
   "cell_type": "code",
   "execution_count": 84,
   "metadata": {},
   "outputs": [],
   "source": [
    "miss_orders.to_csv('../data/missing_orders.csv', index=False)"
   ]
  },
  {
   "cell_type": "code",
   "execution_count": 85,
   "metadata": {},
   "outputs": [],
   "source": [
    "clean_driversloc.to_csv('../data/clean_driver_locations.csv', index=False)"
   ]
  }
 ],
 "metadata": {
  "kernelspec": {
   "display_name": "Python 3.10.6 ('env': venv)",
   "language": "python",
   "name": "python3"
  },
  "language_info": {
   "codemirror_mode": {
    "name": "ipython",
    "version": 3
   },
   "file_extension": ".py",
   "mimetype": "text/x-python",
   "name": "python",
   "nbconvert_exporter": "python",
   "pygments_lexer": "ipython3",
   "version": "3.10.6"
  },
  "orig_nbformat": 4,
  "vscode": {
   "interpreter": {
    "hash": "e85ebbeeaa8a7c21c88793b697ff30de2015360c7a0ae66c7e207f1d4cd52aaf"
   }
  }
 },
 "nbformat": 4,
 "nbformat_minor": 2
}
