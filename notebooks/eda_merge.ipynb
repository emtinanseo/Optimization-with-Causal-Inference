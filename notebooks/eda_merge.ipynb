{
 "cells": [
  {
   "cell_type": "code",
   "execution_count": 1,
   "metadata": {},
   "outputs": [],
   "source": [
    "import pandas as pd\n",
    "import matplotlib.pyplot as plt\n",
    "import seaborn as sns"
   ]
  },
  {
   "cell_type": "code",
   "execution_count": 2,
   "metadata": {},
   "outputs": [],
   "source": [
    "import sys, os\n",
    "\n",
    "#sys.path.append(os.path.abspath(os.path.join(\"../..\")))\n",
    "sys.path.append(os.path.abspath(os.path.join(\"../scripts\")))"
   ]
  },
  {
   "cell_type": "code",
   "execution_count": 3,
   "metadata": {},
   "outputs": [],
   "source": [
    "import explore\n",
    "import plot\n",
    "import clean"
   ]
  },
  {
   "cell_type": "code",
   "execution_count": 4,
   "metadata": {},
   "outputs": [],
   "source": [
    "cleaned = clean.clean()"
   ]
  },
  {
   "cell_type": "markdown",
   "metadata": {},
   "source": [
    "# Import The Data"
   ]
  },
  {
   "cell_type": "code",
   "execution_count": 5,
   "metadata": {},
   "outputs": [],
   "source": [
    "# Data that contains information about the completed orders\n",
    "\n",
    "data_url = explore.get_data_url(\"data/complete_orders.csv\", \"v1.0\")\n",
    "complete_orders = pd.read_csv(data_url)"
   ]
  },
  {
   "cell_type": "code",
   "execution_count": 6,
   "metadata": {},
   "outputs": [],
   "source": [
    "# Data that contains information about the incomplete orders\n",
    "\n",
    "data_url = explore.get_data_url(\"data/missing_orders.csv\", \"v1.0\")\n",
    "incomplete_orders = pd.read_csv(data_url)"
   ]
  },
  {
   "cell_type": "code",
   "execution_count": 7,
   "metadata": {},
   "outputs": [],
   "source": [
    "# data driver locations during requests \n",
    "\n",
    "data_url = explore.get_data_url(\"data/clean_driver_locations.csv\", \"v1.0\")\n",
    "driver_locations = pd.read_csv(data_url)"
   ]
  },
  {
   "cell_type": "markdown",
   "metadata": {},
   "source": [
    "# Calculate Trips' distances and time durations"
   ]
  },
  {
   "cell_type": "markdown",
   "metadata": {},
   "source": [
    "## 1. Clean Up latitude and Longitude Data"
   ]
  },
  {
   "cell_type": "markdown",
   "metadata": {},
   "source": [
    "- First we import geopy to handle coordinates\n",
    "- Second compare location data to expected values in Lagos, Nigeria"
   ]
  },
  {
   "cell_type": "code",
   "execution_count": 8,
   "metadata": {},
   "outputs": [],
   "source": [
    "from geopy.geocoders import Nominatim\n",
    "\n",
    "# Initialize Nominatim API\n",
    "geolocator = Nominatim(user_agent=\"MyApp\")"
   ]
  },
  {
   "cell_type": "markdown",
   "metadata": {},
   "source": [
    "boundingbox is a comma separated list of min latitude, max latitude, min longitude, max longitude [see reference](https://nominatim.org/release-docs/develop/api/Output/#boundingbox)"
   ]
  },
  {
   "cell_type": "code",
   "execution_count": 9,
   "metadata": {},
   "outputs": [
    {
     "name": "stdout",
     "output_type": "stream",
     "text": [
      "Locations within Lagos-Nigeria are bounded by these values:\n",
      "latidude: 6.2950575 - 6.6150575 \n",
      "longitude: 3.2341795 - 3.5541795\n",
      "\n",
      "Locations within Nigeria are bounded by these values:\n",
      "latidude: 4.0690959 - 13.885645 \n",
      "longitude: 2.676932 - 14.678014\n"
     ]
    }
   ],
   "source": [
    "location = geolocator.geocode(\"Lagos\")\n",
    "\n",
    "lagos_bbox = location.raw['boundingbox']\n",
    "\n",
    "print(\"Locations within Lagos-Nigeria are bounded by these values:\")\n",
    "print(\"latidude: {} - {} \\nlongitude: {} - {}\".format(*lagos_bbox))\n",
    "\n",
    "\n",
    "\n",
    "location = geolocator.geocode(\"Nigeria\")\n",
    "\n",
    "nigeria_bbox = location.raw['boundingbox']\n",
    "\n",
    "print(\"\\nLocations within Nigeria are bounded by these values:\")\n",
    "print(\"latidude: {} - {} \\nlongitude: {} - {}\".format(*nigeria_bbox))\n"
   ]
  },
  {
   "cell_type": "markdown",
   "metadata": {},
   "source": [
    "Bounds for Lagos-Nigeria should represent soft bounds for our data. We expect locations to be more or less within Lagos bounds.\n",
    "\n",
    "Hard bounds are represented by bounds for the country of Nigeria. No correct value can exceed these bounds"
   ]
  },
  {
   "cell_type": "markdown",
   "metadata": {},
   "source": [
    "### 1. complete_orders"
   ]
  },
  {
   "cell_type": "code",
   "execution_count": 10,
   "metadata": {},
   "outputs": [
    {
     "name": "stdout",
     "output_type": "stream",
     "text": [
      "For coordinates of trip origin:\n",
      "There are 0 coordinate values out of bounds, accounting to 0.00% of records.\n",
      "For coordinates of trip destination:\n",
      "There are 1 coordinate values out of bounds, accounting to 0.00% of records.\n"
     ]
    }
   ],
   "source": [
    "# We drop trips whose coordinate fall out of Nigeria boundingbox\n",
    "\n",
    "print(\"For coordinates of trip origin:\")\n",
    "complete_orders = cleaned.out_bounds(complete_orders, 'origin_lat', 'origin_lng', nigeria_bbox, drop=True)\n",
    "\n",
    "print(\"For coordinates of trip destination:\")\n",
    "complete_orders = cleaned.out_bounds(complete_orders, 'destination_lat', 'destination_lng', nigeria_bbox, drop=True)"
   ]
  },
  {
   "cell_type": "code",
   "execution_count": 11,
   "metadata": {},
   "outputs": [
    {
     "name": "stdout",
     "output_type": "stream",
     "text": [
      "For coordinates of trip origin:\n",
      "There are 98891 coordinate values out of bounds, accounting to 18.51% of records.\n",
      "For coordinates of trip destination:\n",
      "There are 118894 coordinate values out of bounds, accounting to 22.25% of records.\n"
     ]
    }
   ],
   "source": [
    "# Trips whose coordinates fall out of Lagos boundingbox\n",
    "\n",
    "print(\"For coordinates of trip origin:\")\n",
    "complete_orders = cleaned.out_bounds(complete_orders, 'origin_lat', 'origin_lng', lagos_bbox, drop=False)\n",
    "\n",
    "print(\"For coordinates of trip destination:\")\n",
    "complete_orders = cleaned.out_bounds(complete_orders, 'destination_lat', 'destination_lng', lagos_bbox, drop=False)"
   ]
  },
  {
   "cell_type": "markdown",
   "metadata": {},
   "source": [
    "18.5% of completed orders originate outside of Lagos\n",
    "22.3% of completed orders go to locations outside of Lagos"
   ]
  },
  {
   "cell_type": "markdown",
   "metadata": {},
   "source": [
    "### 2. driver_locations"
   ]
  },
  {
   "cell_type": "code",
   "execution_count": 12,
   "metadata": {},
   "outputs": [
    {
     "name": "stdout",
     "output_type": "stream",
     "text": [
      "Dirvers whose locations at requests fall out of Nigeria boundingbox\n",
      "There are 0 coordinate values out of bounds, accounting to 0.00% of records.\n",
      "\n",
      "Dirvers whose locations at requests fall out of Lagos boundingbox\n",
      "There are 64028 coordinate values out of bounds, accounting to 8.91% of records.\n"
     ]
    }
   ],
   "source": [
    "print(\"Dirvers whose locations at requests fall out of Nigeria boundingbox\")\n",
    "\n",
    "driver_locations = cleaned.out_bounds(driver_locations , 'lat', 'lng', nigeria_bbox, drop=False)\n",
    "\n",
    "print(\"\\nDirvers whose locations at requests fall out of Lagos boundingbox\")\n",
    "\n",
    "driver_locations = cleaned.out_bounds(driver_locations, 'lat', 'lng', lagos_bbox, drop=False)"
   ]
  },
  {
   "cell_type": "markdown",
   "metadata": {},
   "source": [
    "only 8.91% of drivers were outside of Lagos."
   ]
  },
  {
   "cell_type": "markdown",
   "metadata": {},
   "source": [
    "### 3. incomplete_orders"
   ]
  },
  {
   "cell_type": "code",
   "execution_count": 13,
   "metadata": {},
   "outputs": [
    {
     "name": "stdout",
     "output_type": "stream",
     "text": [
      "For coordinates of trip origin:\n",
      "There are 1315 coordinate values out of bounds, accounting to 79.60% of records.\n",
      "For coordinates of trip destination:\n",
      "There are 1346 coordinate values out of bounds, accounting to 81.48% of records.\n"
     ]
    }
   ],
   "source": [
    "# Trips whose coordinates fall out of Lagos boundingbox\n",
    "\n",
    "print(\"For coordinates of trip origin:\")\n",
    "incomplete_orders = cleaned.out_bounds(incomplete_orders, 'origin_lat', 'origin_long', lagos_bbox, drop=False)\n",
    "\n",
    "print(\"For coordinates of trip destination:\")\n",
    "incomplete_orders = cleaned.out_bounds(incomplete_orders, 'destination_lat', 'destination_long', lagos_bbox, drop=False)"
   ]
  },
  {
   "cell_type": "markdown",
   "metadata": {},
   "source": [
    "for incomplete orders,  ~ 80% originate or destine to location outside of Lagos."
   ]
  },
  {
   "cell_type": "markdown",
   "metadata": {},
   "source": [
    "## 2. Calculate Trips' Durations"
   ]
  },
  {
   "cell_type": "code",
   "execution_count": 14,
   "metadata": {},
   "outputs": [],
   "source": [
    "complete_orders['trip_start_time'] = pd.to_datetime(complete_orders['trip_start_time'])\n",
    "complete_orders['trip_end_time'] = pd.to_datetime(complete_orders['trip_end_time'])"
   ]
  },
  {
   "cell_type": "code",
   "execution_count": 15,
   "metadata": {},
   "outputs": [],
   "source": [
    "complete_orders['trip_duration'] = complete_orders['trip_end_time']- complete_orders['trip_start_time']\n",
    "\n",
    "# trip duration in hours \n",
    "complete_orders['trip_duration_hrs'] = complete_orders['trip_duration'].apply(lambda x: x.seconds/60/60)"
   ]
  },
  {
   "cell_type": "code",
   "execution_count": 16,
   "metadata": {},
   "outputs": [
    {
     "data": {
      "text/plain": [
       "count    534305.000000\n",
       "mean          1.189908\n",
       "std           1.692039\n",
       "min           0.000000\n",
       "25%           0.561389\n",
       "50%           0.882222\n",
       "75%           1.335000\n",
       "max          23.996389\n",
       "Name: trip_duration_hrs, dtype: float64"
      ]
     },
     "execution_count": 16,
     "metadata": {},
     "output_type": "execute_result"
    }
   ],
   "source": [
    "complete_orders['trip_duration_hrs'].describe()"
   ]
  },
  {
   "cell_type": "code",
   "execution_count": null,
   "metadata": {},
   "outputs": [
    {
     "data": {
      "image/png": "[encoded data removed]",
      "text/plain": [
       "<Figure size 1400x700 with 1 Axes>"
      ]
     },
     "metadata": {},
     "output_type": "display_data"
    }
   ],
   "source": [
    "plot.plot_hist(complete_orders,'trip_duration_hrs', 'red')"
   ]
  },
  {
   "cell_type": "markdown",
   "metadata": {},
   "source": [
    "There are trips whose duration is too short (less than 5 minutes). Could be that these trips were cancelled"
   ]
  },
  {
   "cell_type": "code",
   "execution_count": 17,
   "metadata": {},
   "outputs": [
    {
     "name": "stdout",
     "output_type": "stream",
     "text": [
      "13573 trips have a duration less than 5 minutes, accounting to 2.54% of all orders.\n"
     ]
    }
   ],
   "source": [
    "df = complete_orders[complete_orders['trip_duration_hrs']<5/60]\n",
    "\n",
    "print(\"{} trips have a duration less than 5 minutes, accounting to {:.2f}% of all orders.\".format(len(df),100*len(df)/len(complete_orders)))"
   ]
  },
  {
   "cell_type": "markdown",
   "metadata": {},
   "source": [
    "## 3. Calculate Trip Distances"
   ]
  },
  {
   "cell_type": "markdown",
   "metadata": {},
   "source": [
    "Since we have latitude-longitude for starting point and end point. we calculate the straight line distance and not the actual distance traveled along roads.\n",
    "\n",
    "- we use geopy liberary for calculating distances from lat-long values\n",
    "\n",
    "- Geopy can calculate geodesic distance between two points using the geodesic distance or the great-circle distance, with a default of the geodesic distance available as the function"
   ]
  },
  {
   "cell_type": "code",
   "execution_count": 18,
   "metadata": {},
   "outputs": [],
   "source": [
    "from geopy import distance"
   ]
  },
  {
   "cell_type": "code",
   "execution_count": 19,
   "metadata": {},
   "outputs": [],
   "source": [
    "complete_orders['distance_km'] = complete_orders.apply(lambda x: distance.distance((x['origin_lat'], x['origin_lng']),\n",
    "(x['destination_lat'], x['destination_lng'])).km, axis=1)"
   ]
  },
  {
   "cell_type": "code",
   "execution_count": 20,
   "metadata": {},
   "outputs": [],
   "source": [
    "incomplete_orders['distance_km'] = incomplete_orders.apply(lambda x: distance.distance((x['origin_lat'], x['origin_long']),\n",
    "(x['destination_lat'], x['destination_long'])).km, axis=1)"
   ]
  },
  {
   "cell_type": "code",
   "execution_count": 21,
   "metadata": {},
   "outputs": [
    {
     "data": {
      "text/plain": [
       "count    534305.000000\n",
       "mean         12.023147\n",
       "std           8.451186\n",
       "min           0.000000\n",
       "25%           5.559767\n",
       "50%          10.509524\n",
       "75%          16.992917\n",
       "max         533.747902\n",
       "Name: distance_km, dtype: float64"
      ]
     },
     "execution_count": 21,
     "metadata": {},
     "output_type": "execute_result"
    }
   ],
   "source": [
    "complete_orders['distance_km'].describe()"
   ]
  },
  {
   "cell_type": "code",
   "execution_count": 22,
   "metadata": {},
   "outputs": [
    {
     "data": {
      "text/plain": [
       "count    1652.000000\n",
       "mean        3.598481\n",
       "std         4.325261\n",
       "min         0.000000\n",
       "25%         1.246790\n",
       "50%         2.076392\n",
       "75%         4.092467\n",
       "max        43.745229\n",
       "Name: distance_km, dtype: float64"
      ]
     },
     "execution_count": 22,
     "metadata": {},
     "output_type": "execute_result"
    }
   ],
   "source": [
    "incomplete_orders['distance_km'].describe()"
   ]
  },
  {
   "cell_type": "code",
   "execution_count": 25,
   "metadata": {},
   "outputs": [
    {
     "data": {
      "image/png": "[encoded data removed]",
      "text/plain": [
       "<Figure size 1400x700 with 1 Axes>"
      ]
     },
     "metadata": {},
     "output_type": "display_data"
    }
   ],
   "source": [
    "plot.plot_hist(complete_orders,'distance_km', 'blue')"
   ]
  },
  {
   "cell_type": "code",
   "execution_count": 26,
   "metadata": {},
   "outputs": [
    {
     "data": {
      "image/png": "[encoded data removed]",
      "text/plain": [
       "<Figure size 1400x700 with 1 Axes>"
      ]
     },
     "metadata": {},
     "output_type": "display_data"
    }
   ],
   "source": [
    "plot.plot_hist(incomplete_orders,'distance_km', 'green')"
   ]
  },
  {
   "cell_type": "markdown",
   "metadata": {},
   "source": [
    "Perhaps unexpectedly, distance of completed order trends longer than those of incompleted orders."
   ]
  },
  {
   "cell_type": "code",
   "execution_count": 28,
   "metadata": {},
   "outputs": [
    {
     "name": "stdout",
     "output_type": "stream",
     "text": [
      "617 completed trips of less than 100 meters, accounting to 0.12% of all completed orders.\n"
     ]
    }
   ],
   "source": [
    "df = complete_orders[complete_orders['distance_km']< 0.1]\n",
    "\n",
    "print(\"{} completed trips of less than 100 meters, accounting to {:.2f}% of all completed orders.\".format(len(df), \n",
    "100*len(df)/len(complete_orders)))"
   ]
  },
  {
   "cell_type": "code",
   "execution_count": 29,
   "metadata": {},
   "outputs": [
    {
     "name": "stdout",
     "output_type": "stream",
     "text": [
      "18 trips of less than 100 meters, accounting to 1.09% of all incomplete orders.\n"
     ]
    }
   ],
   "source": [
    "df = incomplete_orders[incomplete_orders['distance_km']< 0.1]\n",
    "\n",
    "print(\"{} trips of less than 100 meters, accounting to {:.2f}% of all incomplete orders.\".format(len(df), \n",
    "100*len(df)/len(incomplete_orders)))"
   ]
  },
  {
   "cell_type": "markdown",
   "metadata": {},
   "source": [
    "# How many drivers Per Order?"
   ]
  },
  {
   "cell_type": "markdown",
   "metadata": {},
   "source": [
    "We look at the data of drivers, to answer the questions:\n",
    "\n",
    "- how many drivers are notified per order?\n",
    "- how many drivers accept or reject per order?"
   ]
  },
  {
   "cell_type": "code",
   "execution_count": 30,
   "metadata": {},
   "outputs": [
    {
     "name": "stdout",
     "output_type": "stream",
     "text": [
      "full number of records is  718826\n",
      "However, there are only 611799 unique pairs of order_id & driver_id\n"
     ]
    }
   ],
   "source": [
    "print(\"full number of records is \", len(driver_locations))\n",
    "\n",
    "x = driver_locations[['order_id', 'driver_id']].drop_duplicates()\n",
    "\n",
    "print(\"However, there are only {} unique pairs of order_id & driver_id\".format(len(x)))"
   ]
  },
  {
   "cell_type": "markdown",
   "metadata": {},
   "source": [
    "We make a couple of observations:\n",
    "\n",
    "- The combination of 'order_id' + 'driver_id' almost identifies the table of driver location. Although there are cases where the are repeated:\n",
    "\n",
    "  - There are drivers that have both 'accepted' and 'rejected' actions regarding the same order. These cases could be of a driver that accepted then rejected the order.\n",
    "\n",
    "- Related, there are orders that get accepted by more than 1 driver. These cases could be that the first driver rejected, so another driver got to accept."
   ]
  },
  {
   "cell_type": "code",
   "execution_count": 31,
   "metadata": {},
   "outputs": [
    {
     "data": {
      "text/plain": [
       "Index(['order_id', 'driver_id', 'driver_action', 'lat', 'lng', 'fulfilled'], dtype='object')"
      ]
     },
     "execution_count": 31,
     "metadata": {},
     "output_type": "execute_result"
    }
   ],
   "source": [
    "driver_locations.columns"
   ]
  },
  {
   "cell_type": "code",
   "execution_count": 35,
   "metadata": {},
   "outputs": [],
   "source": [
    "df = pd.DataFrame()\n",
    "\n",
    "df['order_id'] = driver_locations['order_id']\n",
    "\n",
    "df['fulfilled'] = driver_locations['fulfilled']\n",
    "\n",
    "df['driver_id'] = driver_locations['driver_id']\n",
    "\n",
    "df.drop_duplicates(inplace= True)\n",
    "\n",
    "\n",
    "drivers_per_orders = df.groupby(['order_id', 'fulfilled']).agg({'driver_id': 'count'})\n",
    "\n",
    "drivers_per_orders.rename(columns={'driver_id': 'num_drivers'}, inplace=True)\n",
    "\n",
    "drivers_per_orders.reset_index(inplace=True)"
   ]
  },
  {
   "cell_type": "code",
   "execution_count": 45,
   "metadata": {},
   "outputs": [
    {
     "data": {
      "text/html": [
       "<div>\n",
       "<style scoped>\n",
       "    .dataframe tbody tr th:only-of-type {\n",
       "        vertical-align: middle;\n",
       "    }\n",
       "\n",
       "    .dataframe tbody tr th {\n",
       "        vertical-align: top;\n",
       "    }\n",
       "\n",
       "    .dataframe thead th {\n",
       "        text-align: right;\n",
       "    }\n",
       "</style>\n",
       "<table border=\"1\" class=\"dataframe\">\n",
       "  <thead>\n",
       "    <tr style=\"text-align: right;\">\n",
       "      <th></th>\n",
       "      <th>order_id</th>\n",
       "      <th>fulfilled</th>\n",
       "      <th>num_drivers</th>\n",
       "    </tr>\n",
       "  </thead>\n",
       "  <tbody>\n",
       "    <tr>\n",
       "      <th>count</th>\n",
       "      <td>26453.000000</td>\n",
       "      <td>26453.0</td>\n",
       "      <td>26453.000000</td>\n",
       "    </tr>\n",
       "    <tr>\n",
       "      <th>mean</th>\n",
       "      <td>420027.424148</td>\n",
       "      <td>1.0</td>\n",
       "      <td>23.095490</td>\n",
       "    </tr>\n",
       "    <tr>\n",
       "      <th>std</th>\n",
       "      <td>16451.909083</td>\n",
       "      <td>0.0</td>\n",
       "      <td>21.226553</td>\n",
       "    </tr>\n",
       "    <tr>\n",
       "      <th>min</th>\n",
       "      <td>392001.000000</td>\n",
       "      <td>1.0</td>\n",
       "      <td>1.000000</td>\n",
       "    </tr>\n",
       "    <tr>\n",
       "      <th>25%</th>\n",
       "      <td>405725.000000</td>\n",
       "      <td>1.0</td>\n",
       "      <td>8.000000</td>\n",
       "    </tr>\n",
       "    <tr>\n",
       "      <th>50%</th>\n",
       "      <td>420467.000000</td>\n",
       "      <td>1.0</td>\n",
       "      <td>17.000000</td>\n",
       "    </tr>\n",
       "    <tr>\n",
       "      <th>75%</th>\n",
       "      <td>433851.000000</td>\n",
       "      <td>1.0</td>\n",
       "      <td>31.000000</td>\n",
       "    </tr>\n",
       "    <tr>\n",
       "      <th>max</th>\n",
       "      <td>517948.000000</td>\n",
       "      <td>1.0</td>\n",
       "      <td>215.000000</td>\n",
       "    </tr>\n",
       "  </tbody>\n",
       "</table>\n",
       "</div>"
      ],
      "text/plain": [
       "            order_id  fulfilled   num_drivers\n",
       "count   26453.000000    26453.0  26453.000000\n",
       "mean   420027.424148        1.0     23.095490\n",
       "std     16451.909083        0.0     21.226553\n",
       "min    392001.000000        1.0      1.000000\n",
       "25%    405725.000000        1.0      8.000000\n",
       "50%    420467.000000        1.0     17.000000\n",
       "75%    433851.000000        1.0     31.000000\n",
       "max    517948.000000        1.0    215.000000"
      ]
     },
     "execution_count": 45,
     "metadata": {},
     "output_type": "execute_result"
    }
   ],
   "source": [
    "drivers_per_orders[drivers_per_orders['fulfilled']==1].describe()"
   ]
  },
  {
   "cell_type": "code",
   "execution_count": 46,
   "metadata": {},
   "outputs": [
    {
     "data": {
      "text/html": [
       "<div>\n",
       "<style scoped>\n",
       "    .dataframe tbody tr th:only-of-type {\n",
       "        vertical-align: middle;\n",
       "    }\n",
       "\n",
       "    .dataframe tbody tr th {\n",
       "        vertical-align: top;\n",
       "    }\n",
       "\n",
       "    .dataframe thead th {\n",
       "        text-align: right;\n",
       "    }\n",
       "</style>\n",
       "<table border=\"1\" class=\"dataframe\">\n",
       "  <thead>\n",
       "    <tr style=\"text-align: right;\">\n",
       "      <th></th>\n",
       "      <th>order_id</th>\n",
       "      <th>fulfilled</th>\n",
       "      <th>num_drivers</th>\n",
       "    </tr>\n",
       "  </thead>\n",
       "  <tbody>\n",
       "    <tr>\n",
       "      <th>count</th>\n",
       "      <td>39.000000</td>\n",
       "      <td>39.0</td>\n",
       "      <td>39.000000</td>\n",
       "    </tr>\n",
       "    <tr>\n",
       "      <th>mean</th>\n",
       "      <td>420451.358974</td>\n",
       "      <td>0.0</td>\n",
       "      <td>21.897436</td>\n",
       "    </tr>\n",
       "    <tr>\n",
       "      <th>std</th>\n",
       "      <td>16849.175708</td>\n",
       "      <td>0.0</td>\n",
       "      <td>18.185875</td>\n",
       "    </tr>\n",
       "    <tr>\n",
       "      <th>min</th>\n",
       "      <td>394447.000000</td>\n",
       "      <td>0.0</td>\n",
       "      <td>1.000000</td>\n",
       "    </tr>\n",
       "    <tr>\n",
       "      <th>25%</th>\n",
       "      <td>409678.500000</td>\n",
       "      <td>0.0</td>\n",
       "      <td>9.500000</td>\n",
       "    </tr>\n",
       "    <tr>\n",
       "      <th>50%</th>\n",
       "      <td>417096.000000</td>\n",
       "      <td>0.0</td>\n",
       "      <td>17.000000</td>\n",
       "    </tr>\n",
       "    <tr>\n",
       "      <th>75%</th>\n",
       "      <td>434981.500000</td>\n",
       "      <td>0.0</td>\n",
       "      <td>29.000000</td>\n",
       "    </tr>\n",
       "    <tr>\n",
       "      <th>max</th>\n",
       "      <td>447998.000000</td>\n",
       "      <td>0.0</td>\n",
       "      <td>74.000000</td>\n",
       "    </tr>\n",
       "  </tbody>\n",
       "</table>\n",
       "</div>"
      ],
      "text/plain": [
       "            order_id  fulfilled  num_drivers\n",
       "count      39.000000       39.0    39.000000\n",
       "mean   420451.358974        0.0    21.897436\n",
       "std     16849.175708        0.0    18.185875\n",
       "min    394447.000000        0.0     1.000000\n",
       "25%    409678.500000        0.0     9.500000\n",
       "50%    417096.000000        0.0    17.000000\n",
       "75%    434981.500000        0.0    29.000000\n",
       "max    447998.000000        0.0    74.000000"
      ]
     },
     "execution_count": 46,
     "metadata": {},
     "output_type": "execute_result"
    }
   ],
   "source": [
    "drivers_per_orders[drivers_per_orders['fulfilled']==0].describe()"
   ]
  },
  {
   "cell_type": "code",
   "execution_count": 42,
   "metadata": {},
   "outputs": [
    {
     "data": {
      "image/png": "[encoded data removed]",
      "text/plain": [
       "<Figure size 1400x700 with 1 Axes>"
      ]
     },
     "metadata": {},
     "output_type": "display_data"
    }
   ],
   "source": [
    "plot.plot_hist(drivers_per_orders[drivers_per_orders['fulfilled']==1], 'num_drivers', 'red')"
   ]
  },
  {
   "cell_type": "code",
   "execution_count": 44,
   "metadata": {},
   "outputs": [
    {
     "data": {
      "image/png": "[encoded data removed]",
      "text/plain": [
       "<Figure size 1400x700 with 1 Axes>"
      ]
     },
     "metadata": {},
     "output_type": "display_data"
    }
   ],
   "source": [
    "plot.plot_hist(drivers_per_orders[drivers_per_orders['fulfilled']==0], 'num_drivers', 'green')"
   ]
  },
  {
   "cell_type": "markdown",
   "metadata": {},
   "source": [
    "Comparing fulfilled and unfulfilled orders, we see that the distribution looks similar at lower end (at least 1 driver was notified and the median is around 17). but on average fulfilled orders have more drivers (23 compared to 21)."
   ]
  },
  {
   "cell_type": "markdown",
   "metadata": {},
   "source": [
    "# Merge order and drivers-location dataframes"
   ]
  },
  {
   "cell_type": "markdown",
   "metadata": {},
   "source": [
    "We need to merge the two dataframes of fulfilled orders and dirvers locations at request to answer questions like:\n",
    "\n",
    "- How far are the Drivers at request?"
   ]
  },
  {
   "cell_type": "markdown",
   "metadata": {},
   "source": [
    "## 1. Merge the dataframes: complete_orders and driver_locations"
   ]
  },
  {
   "cell_type": "code",
   "execution_count": 23,
   "metadata": {},
   "outputs": [
    {
     "name": "stdout",
     "output_type": "stream",
     "text": [
      "<class 'pandas.core.frame.DataFrame'>\n",
      "Int64Index: 534305 entries, 0 to 534305\n",
      "Data columns (total 10 columns):\n",
      " #   Column             Non-Null Count   Dtype          \n",
      "---  ------             --------------   -----          \n",
      " 0   trip_id            534305 non-null  int64          \n",
      " 1   trip_start_time    534305 non-null  datetime64[ns] \n",
      " 2   trip_end_time      534305 non-null  datetime64[ns] \n",
      " 3   origin_lat         534305 non-null  float64        \n",
      " 4   origin_lng         534305 non-null  float64        \n",
      " 5   destination_lat    534305 non-null  float64        \n",
      " 6   destination_lng    534305 non-null  float64        \n",
      " 7   trip_duration      534305 non-null  timedelta64[ns]\n",
      " 8   trip_duration_hrs  534305 non-null  float64        \n",
      " 9   trip_distance_km   534305 non-null  float64        \n",
      "dtypes: datetime64[ns](2), float64(6), int64(1), timedelta64[ns](1)\n",
      "memory usage: 44.8 MB\n"
     ]
    }
   ],
   "source": [
    "complete_orders.rename(columns={'distance_km': 'trip_distance_km'}, inplace=True)\n",
    "\n",
    "complete_orders.info()"
   ]
  },
  {
   "cell_type": "code",
   "execution_count": 25,
   "metadata": {},
   "outputs": [
    {
     "name": "stdout",
     "output_type": "stream",
     "text": [
      "<class 'pandas.core.frame.DataFrame'>\n",
      "RangeIndex: 718826 entries, 0 to 718825\n",
      "Data columns (total 6 columns):\n",
      " #   Column         Non-Null Count   Dtype  \n",
      "---  ------         --------------   -----  \n",
      " 0   order_id       718826 non-null  int64  \n",
      " 1   driver_id      718826 non-null  int64  \n",
      " 2   driver_action  718826 non-null  object \n",
      " 3   driver_lat     718826 non-null  float64\n",
      " 4   driver_lng     718826 non-null  float64\n",
      " 5   fulfilled      718826 non-null  int64  \n",
      "dtypes: float64(2), int64(3), object(1)\n",
      "memory usage: 32.9+ MB\n"
     ]
    }
   ],
   "source": [
    "driver_locations.rename(columns={'lat': 'driver_lat', 'lng': 'driver_lng'}, inplace=True)\n",
    "\n",
    "driver_locations.info()"
   ]
  },
  {
   "cell_type": "code",
   "execution_count": 26,
   "metadata": {},
   "outputs": [],
   "source": [
    "df_merged = pd.merge(complete_orders, driver_locations, how= 'inner', left_on= 'trip_id', right_on= 'order_id')"
   ]
  },
  {
   "cell_type": "code",
   "execution_count": 27,
   "metadata": {},
   "outputs": [
    {
     "name": "stdout",
     "output_type": "stream",
     "text": [
      "<class 'pandas.core.frame.DataFrame'>\n",
      "Int64Index: 717832 entries, 0 to 717831\n",
      "Data columns (total 15 columns):\n",
      " #   Column             Non-Null Count   Dtype          \n",
      "---  ------             --------------   -----          \n",
      " 0   order_id           717832 non-null  int64          \n",
      " 1   trip_start_time    717832 non-null  datetime64[ns] \n",
      " 2   trip_end_time      717832 non-null  datetime64[ns] \n",
      " 3   origin_lat         717832 non-null  float64        \n",
      " 4   origin_lng         717832 non-null  float64        \n",
      " 5   destination_lat    717832 non-null  float64        \n",
      " 6   destination_lng    717832 non-null  float64        \n",
      " 7   trip_duration      717832 non-null  timedelta64[ns]\n",
      " 8   trip_duration_hrs  717832 non-null  float64        \n",
      " 9   trip_distance_km   717832 non-null  float64        \n",
      " 10  driver_id          717832 non-null  int64          \n",
      " 11  driver_action      717832 non-null  object         \n",
      " 12  driver_lat         717832 non-null  float64        \n",
      " 13  driver_lng         717832 non-null  float64        \n",
      " 14  fulfilled          717832 non-null  int64          \n",
      "dtypes: datetime64[ns](2), float64(8), int64(3), object(1), timedelta64[ns](1)\n",
      "memory usage: 87.6+ MB\n"
     ]
    }
   ],
   "source": [
    "df_merged.drop(columns=['order_id'], inplace= True)\n",
    "\n",
    "df_merged.rename(columns={'trip_id': 'order_id'}, inplace= True)\n",
    "\n",
    "df_merged.info()"
   ]
  },
  {
   "cell_type": "markdown",
   "metadata": {},
   "source": [
    "## 2. Merge the dataframes: incomplete_orders and driver_locations"
   ]
  },
  {
   "cell_type": "code",
   "execution_count": 28,
   "metadata": {},
   "outputs": [
    {
     "name": "stdout",
     "output_type": "stream",
     "text": [
      "<class 'pandas.core.frame.DataFrame'>\n",
      "RangeIndex: 1652 entries, 0 to 1651\n",
      "Data columns (total 6 columns):\n",
      " #   Column            Non-Null Count  Dtype  \n",
      "---  ------            --------------  -----  \n",
      " 0   trip_id           1652 non-null   int64  \n",
      " 1   origin_lat        1652 non-null   float64\n",
      " 2   origin_long       1652 non-null   float64\n",
      " 3   destination_lat   1652 non-null   float64\n",
      " 4   destination_long  1652 non-null   float64\n",
      " 5   trip_distance_km  1652 non-null   float64\n",
      "dtypes: float64(5), int64(1)\n",
      "memory usage: 77.6 KB\n"
     ]
    }
   ],
   "source": [
    "incomplete_orders.rename(columns={'distance_km': 'trip_distance_km'}, inplace=True)\n",
    "\n",
    "incomplete_orders.info()"
   ]
  },
  {
   "cell_type": "code",
   "execution_count": 29,
   "metadata": {},
   "outputs": [],
   "source": [
    "incomplete_merged = pd.merge(incomplete_orders, driver_locations, how= 'inner', left_on= 'trip_id', right_on= 'order_id')"
   ]
  },
  {
   "cell_type": "code",
   "execution_count": 30,
   "metadata": {},
   "outputs": [
    {
     "name": "stdout",
     "output_type": "stream",
     "text": [
      "<class 'pandas.core.frame.DataFrame'>\n",
      "Int64Index: 984 entries, 0 to 983\n",
      "Data columns (total 11 columns):\n",
      " #   Column            Non-Null Count  Dtype  \n",
      "---  ------            --------------  -----  \n",
      " 0   order_id          984 non-null    int64  \n",
      " 1   origin_lat        984 non-null    float64\n",
      " 2   origin_long       984 non-null    float64\n",
      " 3   destination_lat   984 non-null    float64\n",
      " 4   destination_long  984 non-null    float64\n",
      " 5   trip_distance_km  984 non-null    float64\n",
      " 6   driver_id         984 non-null    int64  \n",
      " 7   driver_action     984 non-null    object \n",
      " 8   driver_lat        984 non-null    float64\n",
      " 9   driver_lng        984 non-null    float64\n",
      " 10  fulfilled         984 non-null    int64  \n",
      "dtypes: float64(7), int64(3), object(1)\n",
      "memory usage: 92.2+ KB\n"
     ]
    }
   ],
   "source": [
    "incomplete_merged.drop(columns=['order_id'], inplace= True)\n",
    "\n",
    "incomplete_merged.rename(columns={'trip_id': 'order_id'}, inplace= True)\n",
    "\n",
    "incomplete_merged.info()"
   ]
  },
  {
   "cell_type": "markdown",
   "metadata": {},
   "source": [
    "## 3. Calculate distances driver-trip origin "
   ]
  },
  {
   "cell_type": "code",
   "execution_count": 31,
   "metadata": {},
   "outputs": [],
   "source": [
    "from geopy import distance"
   ]
  },
  {
   "cell_type": "code",
   "execution_count": 33,
   "metadata": {},
   "outputs": [],
   "source": [
    "df_merged['driver-origin_km'] = df_merged.apply(lambda x: distance.distance((x['origin_lat'], x['origin_lng']),\n",
    "(x['driver_lat'], x['driver_lng'])).km, axis=1)\n",
    "\n",
    "df_merged['driver-dest_km'] = df_merged.apply(lambda x: distance.distance((x['destination_lat'], x['destination_lng']),\n",
    "(x['driver_lat'], x['driver_lng'])).km, axis=1)"
   ]
  },
  {
   "cell_type": "code",
   "execution_count": 34,
   "metadata": {},
   "outputs": [],
   "source": [
    "incomplete_merged['driver-origin_km'] = incomplete_merged.apply(lambda x: distance.distance((x['origin_lat'], x['origin_long']),\n",
    "(x['driver_lat'], x['driver_lng'])).km, axis=1)\n",
    "\n",
    "incomplete_merged['driver-dest_km'] = incomplete_merged.apply(lambda x: distance.distance((x['destination_lat'], x['destination_long']),\n",
    "(x['driver_lat'], x['driver_lng'])).km, axis=1)"
   ]
  },
  {
   "cell_type": "code",
   "execution_count": 35,
   "metadata": {},
   "outputs": [
    {
     "data": {
      "text/html": [
       "<div>\n",
       "<style scoped>\n",
       "    .dataframe tbody tr th:only-of-type {\n",
       "        vertical-align: middle;\n",
       "    }\n",
       "\n",
       "    .dataframe tbody tr th {\n",
       "        vertical-align: top;\n",
       "    }\n",
       "\n",
       "    .dataframe thead th {\n",
       "        text-align: right;\n",
       "    }\n",
       "</style>\n",
       "<table border=\"1\" class=\"dataframe\">\n",
       "  <thead>\n",
       "    <tr style=\"text-align: right;\">\n",
       "      <th></th>\n",
       "      <th>driver-origin_km</th>\n",
       "      <th>driver-dest_km</th>\n",
       "    </tr>\n",
       "  </thead>\n",
       "  <tbody>\n",
       "    <tr>\n",
       "      <th>count</th>\n",
       "      <td>717832.000000</td>\n",
       "      <td>7.178320e+05</td>\n",
       "    </tr>\n",
       "    <tr>\n",
       "      <th>mean</th>\n",
       "      <td>1.790051</td>\n",
       "      <td>9.525378e+00</td>\n",
       "    </tr>\n",
       "    <tr>\n",
       "      <th>std</th>\n",
       "      <td>1.088520</td>\n",
       "      <td>6.873024e+00</td>\n",
       "    </tr>\n",
       "    <tr>\n",
       "      <th>min</th>\n",
       "      <td>0.000000</td>\n",
       "      <td>3.071491e-12</td>\n",
       "    </tr>\n",
       "    <tr>\n",
       "      <th>25%</th>\n",
       "      <td>1.067051</td>\n",
       "      <td>4.402384e+00</td>\n",
       "    </tr>\n",
       "    <tr>\n",
       "      <th>50%</th>\n",
       "      <td>1.687462</td>\n",
       "      <td>7.806586e+00</td>\n",
       "    </tr>\n",
       "    <tr>\n",
       "      <th>75%</th>\n",
       "      <td>2.398366</td>\n",
       "      <td>1.298262e+01</td>\n",
       "    </tr>\n",
       "    <tr>\n",
       "      <th>max</th>\n",
       "      <td>210.887483</td>\n",
       "      <td>7.754643e+01</td>\n",
       "    </tr>\n",
       "  </tbody>\n",
       "</table>\n",
       "</div>"
      ],
      "text/plain": [
       "       driver-origin_km  driver-dest_km\n",
       "count     717832.000000    7.178320e+05\n",
       "mean           1.790051    9.525378e+00\n",
       "std            1.088520    6.873024e+00\n",
       "min            0.000000    3.071491e-12\n",
       "25%            1.067051    4.402384e+00\n",
       "50%            1.687462    7.806586e+00\n",
       "75%            2.398366    1.298262e+01\n",
       "max          210.887483    7.754643e+01"
      ]
     },
     "execution_count": 35,
     "metadata": {},
     "output_type": "execute_result"
    }
   ],
   "source": [
    "df_merged[['driver-origin_km', 'driver-dest_km']].describe()"
   ]
  },
  {
   "cell_type": "code",
   "execution_count": 36,
   "metadata": {},
   "outputs": [
    {
     "data": {
      "text/html": [
       "<div>\n",
       "<style scoped>\n",
       "    .dataframe tbody tr th:only-of-type {\n",
       "        vertical-align: middle;\n",
       "    }\n",
       "\n",
       "    .dataframe tbody tr th {\n",
       "        vertical-align: top;\n",
       "    }\n",
       "\n",
       "    .dataframe thead th {\n",
       "        text-align: right;\n",
       "    }\n",
       "</style>\n",
       "<table border=\"1\" class=\"dataframe\">\n",
       "  <thead>\n",
       "    <tr style=\"text-align: right;\">\n",
       "      <th></th>\n",
       "      <th>driver-origin_km</th>\n",
       "      <th>driver-dest_km</th>\n",
       "    </tr>\n",
       "  </thead>\n",
       "  <tbody>\n",
       "    <tr>\n",
       "      <th>count</th>\n",
       "      <td>984.000000</td>\n",
       "      <td>984.000000</td>\n",
       "    </tr>\n",
       "    <tr>\n",
       "      <th>mean</th>\n",
       "      <td>1.657023</td>\n",
       "      <td>5.802816</td>\n",
       "    </tr>\n",
       "    <tr>\n",
       "      <th>std</th>\n",
       "      <td>1.003861</td>\n",
       "      <td>4.512974</td>\n",
       "    </tr>\n",
       "    <tr>\n",
       "      <th>min</th>\n",
       "      <td>0.008076</td>\n",
       "      <td>0.093253</td>\n",
       "    </tr>\n",
       "    <tr>\n",
       "      <th>25%</th>\n",
       "      <td>1.012555</td>\n",
       "      <td>2.492267</td>\n",
       "    </tr>\n",
       "    <tr>\n",
       "      <th>50%</th>\n",
       "      <td>1.571920</td>\n",
       "      <td>4.513878</td>\n",
       "    </tr>\n",
       "    <tr>\n",
       "      <th>75%</th>\n",
       "      <td>2.291668</td>\n",
       "      <td>8.124747</td>\n",
       "    </tr>\n",
       "    <tr>\n",
       "      <th>max</th>\n",
       "      <td>13.066181</td>\n",
       "      <td>19.593464</td>\n",
       "    </tr>\n",
       "  </tbody>\n",
       "</table>\n",
       "</div>"
      ],
      "text/plain": [
       "       driver-origin_km  driver-dest_km\n",
       "count        984.000000      984.000000\n",
       "mean           1.657023        5.802816\n",
       "std            1.003861        4.512974\n",
       "min            0.008076        0.093253\n",
       "25%            1.012555        2.492267\n",
       "50%            1.571920        4.513878\n",
       "75%            2.291668        8.124747\n",
       "max           13.066181       19.593464"
      ]
     },
     "execution_count": 36,
     "metadata": {},
     "output_type": "execute_result"
    }
   ],
   "source": [
    "incomplete_merged[['driver-origin_km', 'driver-dest_km']].describe()"
   ]
  },
  {
   "cell_type": "markdown",
   "metadata": {},
   "source": [
    "- The general distribution of distances to origin is similar for complete and incomplete orders.\n",
    "\n",
    "- For complete orders, looking at the max value (>200km) and the 75% quantile (< 3 km). it is clear that there are outliers.\n",
    "\n",
    "- Since there are other values (lat-lng and driver_action) that are related to distance, we handle the outliers by removing them"
   ]
  },
  {
   "cell_type": "code",
   "execution_count": 37,
   "metadata": {},
   "outputs": [
    {
     "name": "stdout",
     "output_type": "stream",
     "text": [
      "718\n"
     ]
    }
   ],
   "source": [
    "df = cleaned.drop_outlier(df_merged, 'driver-origin_km', alpha= 0.001)\n",
    "#df = cleaned.drop_outlier(df, 'driver-dest_km', alpha= 0.001)\n",
    "\n",
    "print(len(df_merged) - len(df))"
   ]
  },
  {
   "cell_type": "markdown",
   "metadata": {},
   "source": [
    "# 4. Drivers within 500 m"
   ]
  },
  {
   "cell_type": "code",
   "execution_count": 39,
   "metadata": {},
   "outputs": [],
   "source": [
    " # for completed orders\n",
    "\n",
    "df500 = df[df['driver-origin_km'] <= 0.5]\n",
    "\n",
    "drivers_within500m = df500.groupby('order_id').agg({'trip_duration_hrs': 'mean', 'trip_distance_km': 'mean','driver_id': 'count', \n",
    "'driver-origin_km': 'mean', 'driver-dest_km': 'mean'})\n",
    "\n",
    "drivers_within500m.reset_index(inplace=True)"
   ]
  },
  {
   "cell_type": "code",
   "execution_count": 42,
   "metadata": {},
   "outputs": [
    {
     "data": {
      "text/html": [
       "<div>\n",
       "<style scoped>\n",
       "    .dataframe tbody tr th:only-of-type {\n",
       "        vertical-align: middle;\n",
       "    }\n",
       "\n",
       "    .dataframe tbody tr th {\n",
       "        vertical-align: top;\n",
       "    }\n",
       "\n",
       "    .dataframe thead th {\n",
       "        text-align: right;\n",
       "    }\n",
       "</style>\n",
       "<table border=\"1\" class=\"dataframe\">\n",
       "  <thead>\n",
       "    <tr style=\"text-align: right;\">\n",
       "      <th></th>\n",
       "      <th>order_id</th>\n",
       "      <th>trip_duration_hrs</th>\n",
       "      <th>trip_distance_km</th>\n",
       "      <th>driver_id</th>\n",
       "      <th>driver-origin_km</th>\n",
       "      <th>driver-dest_km</th>\n",
       "    </tr>\n",
       "  </thead>\n",
       "  <tbody>\n",
       "    <tr>\n",
       "      <th>count</th>\n",
       "      <td>15139.000000</td>\n",
       "      <td>15139.000000</td>\n",
       "      <td>15139.000000</td>\n",
       "      <td>15139.000000</td>\n",
       "      <td>15139.000000</td>\n",
       "      <td>1.513900e+04</td>\n",
       "    </tr>\n",
       "    <tr>\n",
       "      <th>mean</th>\n",
       "      <td>418910.021996</td>\n",
       "      <td>0.992006</td>\n",
       "      <td>10.530392</td>\n",
       "      <td>4.240306</td>\n",
       "      <td>0.307752</td>\n",
       "      <td>1.053081e+01</td>\n",
       "    </tr>\n",
       "    <tr>\n",
       "      <th>std</th>\n",
       "      <td>16282.068816</td>\n",
       "      <td>1.547779</td>\n",
       "      <td>7.432151</td>\n",
       "      <td>7.909841</td>\n",
       "      <td>0.112178</td>\n",
       "      <td>7.433185e+00</td>\n",
       "    </tr>\n",
       "    <tr>\n",
       "      <th>min</th>\n",
       "      <td>392009.000000</td>\n",
       "      <td>0.005000</td>\n",
       "      <td>0.016387</td>\n",
       "      <td>1.000000</td>\n",
       "      <td>0.000000</td>\n",
       "      <td>3.071491e-12</td>\n",
       "    </tr>\n",
       "    <tr>\n",
       "      <th>25%</th>\n",
       "      <td>404389.500000</td>\n",
       "      <td>0.445833</td>\n",
       "      <td>4.785129</td>\n",
       "      <td>1.000000</td>\n",
       "      <td>0.232972</td>\n",
       "      <td>4.786964e+00</td>\n",
       "    </tr>\n",
       "    <tr>\n",
       "      <th>50%</th>\n",
       "      <td>419402.000000</td>\n",
       "      <td>0.732222</td>\n",
       "      <td>8.847153</td>\n",
       "      <td>2.000000</td>\n",
       "      <td>0.318550</td>\n",
       "      <td>8.853055e+00</td>\n",
       "    </tr>\n",
       "    <tr>\n",
       "      <th>75%</th>\n",
       "      <td>432242.000000</td>\n",
       "      <td>1.124167</td>\n",
       "      <td>14.742229</td>\n",
       "      <td>3.000000</td>\n",
       "      <td>0.393565</td>\n",
       "      <td>1.473244e+01</td>\n",
       "    </tr>\n",
       "    <tr>\n",
       "      <th>max</th>\n",
       "      <td>517948.000000</td>\n",
       "      <td>23.793056</td>\n",
       "      <td>77.546433</td>\n",
       "      <td>101.000000</td>\n",
       "      <td>0.499967</td>\n",
       "      <td>7.754643e+01</td>\n",
       "    </tr>\n",
       "  </tbody>\n",
       "</table>\n",
       "</div>"
      ],
      "text/plain": [
       "            order_id  trip_duration_hrs  trip_distance_km     driver_id  \\\n",
       "count   15139.000000       15139.000000      15139.000000  15139.000000   \n",
       "mean   418910.021996           0.992006         10.530392      4.240306   \n",
       "std     16282.068816           1.547779          7.432151      7.909841   \n",
       "min    392009.000000           0.005000          0.016387      1.000000   \n",
       "25%    404389.500000           0.445833          4.785129      1.000000   \n",
       "50%    419402.000000           0.732222          8.847153      2.000000   \n",
       "75%    432242.000000           1.124167         14.742229      3.000000   \n",
       "max    517948.000000          23.793056         77.546433    101.000000   \n",
       "\n",
       "       driver-origin_km  driver-dest_km  \n",
       "count      15139.000000    1.513900e+04  \n",
       "mean           0.307752    1.053081e+01  \n",
       "std            0.112178    7.433185e+00  \n",
       "min            0.000000    3.071491e-12  \n",
       "25%            0.232972    4.786964e+00  \n",
       "50%            0.318550    8.853055e+00  \n",
       "75%            0.393565    1.473244e+01  \n",
       "max            0.499967    7.754643e+01  "
      ]
     },
     "execution_count": 42,
     "metadata": {},
     "output_type": "execute_result"
    }
   ],
   "source": [
    "drivers_within500m.describe()"
   ]
  },
  {
   "cell_type": "code",
   "execution_count": 43,
   "metadata": {},
   "outputs": [
    {
     "data": {
      "image/png": "[encoded data removed]",
      "text/plain": [
       "<Figure size 1000x500 with 1 Axes>"
      ]
     },
     "metadata": {},
     "output_type": "display_data"
    }
   ],
   "source": [
    "sns.displot(drivers_within500m, x= 'driver_id', color='green', kde=True, height=5, aspect=2)\n",
    "plt.title('Number of drivers within 500 m for completed order', size=15, fontweight='bold')\n",
    "plt.show()"
   ]
  },
  {
   "cell_type": "markdown",
   "metadata": {},
   "source": [
    "For most cases, there are less than 5 drivers within 500 m of an order."
   ]
  },
  {
   "cell_type": "code",
   "execution_count": 45,
   "metadata": {},
   "outputs": [],
   "source": [
    "# for incomplete orders\n",
    "\n",
    "df500 = incomplete_merged[incomplete_merged['driver-origin_km'] <= 0.5]\n",
    "\n",
    "in_drivers_within500m = df500.groupby('order_id').agg({'trip_distance_km': 'mean','driver_id': 'count', \n",
    "'driver-origin_km': 'mean', 'driver-dest_km': 'mean'})\n",
    "\n",
    "in_drivers_within500m.reset_index(inplace=True)"
   ]
  },
  {
   "cell_type": "code",
   "execution_count": 46,
   "metadata": {},
   "outputs": [
    {
     "data": {
      "text/html": [
       "<div>\n",
       "<style scoped>\n",
       "    .dataframe tbody tr th:only-of-type {\n",
       "        vertical-align: middle;\n",
       "    }\n",
       "\n",
       "    .dataframe tbody tr th {\n",
       "        vertical-align: top;\n",
       "    }\n",
       "\n",
       "    .dataframe thead th {\n",
       "        text-align: right;\n",
       "    }\n",
       "</style>\n",
       "<table border=\"1\" class=\"dataframe\">\n",
       "  <thead>\n",
       "    <tr style=\"text-align: right;\">\n",
       "      <th></th>\n",
       "      <th>order_id</th>\n",
       "      <th>trip_distance_km</th>\n",
       "      <th>driver_id</th>\n",
       "      <th>driver-origin_km</th>\n",
       "      <th>driver-dest_km</th>\n",
       "    </tr>\n",
       "  </thead>\n",
       "  <tbody>\n",
       "    <tr>\n",
       "      <th>count</th>\n",
       "      <td>22.000000</td>\n",
       "      <td>22.000000</td>\n",
       "      <td>22.000000</td>\n",
       "      <td>22.000000</td>\n",
       "      <td>22.000000</td>\n",
       "    </tr>\n",
       "    <tr>\n",
       "      <th>mean</th>\n",
       "      <td>420852.681818</td>\n",
       "      <td>5.318194</td>\n",
       "      <td>5.045455</td>\n",
       "      <td>0.293220</td>\n",
       "      <td>5.347136</td>\n",
       "    </tr>\n",
       "    <tr>\n",
       "      <th>std</th>\n",
       "      <td>18289.809719</td>\n",
       "      <td>4.067936</td>\n",
       "      <td>7.773442</td>\n",
       "      <td>0.090722</td>\n",
       "      <td>3.992027</td>\n",
       "    </tr>\n",
       "    <tr>\n",
       "      <th>min</th>\n",
       "      <td>394447.000000</td>\n",
       "      <td>0.875191</td>\n",
       "      <td>1.000000</td>\n",
       "      <td>0.167691</td>\n",
       "      <td>1.015435</td>\n",
       "    </tr>\n",
       "    <tr>\n",
       "      <th>25%</th>\n",
       "      <td>404122.000000</td>\n",
       "      <td>3.009994</td>\n",
       "      <td>2.000000</td>\n",
       "      <td>0.237647</td>\n",
       "      <td>2.963478</td>\n",
       "    </tr>\n",
       "    <tr>\n",
       "      <th>50%</th>\n",
       "      <td>424877.000000</td>\n",
       "      <td>3.958945</td>\n",
       "      <td>3.000000</td>\n",
       "      <td>0.277543</td>\n",
       "      <td>3.980097</td>\n",
       "    </tr>\n",
       "    <tr>\n",
       "      <th>75%</th>\n",
       "      <td>435666.750000</td>\n",
       "      <td>6.900587</td>\n",
       "      <td>4.000000</td>\n",
       "      <td>0.346284</td>\n",
       "      <td>6.800678</td>\n",
       "    </tr>\n",
       "    <tr>\n",
       "      <th>max</th>\n",
       "      <td>447888.000000</td>\n",
       "      <td>18.596787</td>\n",
       "      <td>36.000000</td>\n",
       "      <td>0.491354</td>\n",
       "      <td>18.590107</td>\n",
       "    </tr>\n",
       "  </tbody>\n",
       "</table>\n",
       "</div>"
      ],
      "text/plain": [
       "            order_id  trip_distance_km  driver_id  driver-origin_km  \\\n",
       "count      22.000000         22.000000  22.000000         22.000000   \n",
       "mean   420852.681818          5.318194   5.045455          0.293220   \n",
       "std     18289.809719          4.067936   7.773442          0.090722   \n",
       "min    394447.000000          0.875191   1.000000          0.167691   \n",
       "25%    404122.000000          3.009994   2.000000          0.237647   \n",
       "50%    424877.000000          3.958945   3.000000          0.277543   \n",
       "75%    435666.750000          6.900587   4.000000          0.346284   \n",
       "max    447888.000000         18.596787  36.000000          0.491354   \n",
       "\n",
       "       driver-dest_km  \n",
       "count       22.000000  \n",
       "mean         5.347136  \n",
       "std          3.992027  \n",
       "min          1.015435  \n",
       "25%          2.963478  \n",
       "50%          3.980097  \n",
       "75%          6.800678  \n",
       "max         18.590107  "
      ]
     },
     "execution_count": 46,
     "metadata": {},
     "output_type": "execute_result"
    }
   ],
   "source": [
    "in_drivers_within500m.describe()"
   ]
  },
  {
   "cell_type": "code",
   "execution_count": 47,
   "metadata": {},
   "outputs": [
    {
     "data": {
      "image/png": "[encoded data removed]",
      "text/plain": [
       "<Figure size 1000x500 with 1 Axes>"
      ]
     },
     "metadata": {},
     "output_type": "display_data"
    }
   ],
   "source": [
    "sns.displot(in_drivers_within500m, x= 'driver_id', color='green', kde=True, height=5, aspect=2)\n",
    "plt.title('Number of drivers within 500 m for incomplete order', size=15, fontweight='bold')\n",
    "plt.show()"
   ]
  },
  {
   "cell_type": "markdown",
   "metadata": {},
   "source": [
    "# Write out the data"
   ]
  },
  {
   "cell_type": "code",
   "execution_count": 48,
   "metadata": {},
   "outputs": [],
   "source": [
    "complete_orders.to_csv('../data/complete_orders.csv', index=False)"
   ]
  },
  {
   "cell_type": "code",
   "execution_count": 49,
   "metadata": {},
   "outputs": [],
   "source": [
    "incomplete_orders.to_csv('../data/missing_orders.csv', index=False)"
   ]
  },
  {
   "cell_type": "code",
   "execution_count": 50,
   "metadata": {},
   "outputs": [],
   "source": [
    "driver_locations.to_csv('../data/clean_driver_locations.csv', index=False)"
   ]
  },
  {
   "cell_type": "code",
   "execution_count": 51,
   "metadata": {},
   "outputs": [],
   "source": [
    "df.to_csv(\"../data/clean_merged.csv\", index=False)"
   ]
  },
  {
   "cell_type": "code",
   "execution_count": 52,
   "metadata": {},
   "outputs": [],
   "source": [
    "incomplete_merged.to_csv(\"../data/incomplete_merged.csv\", index=False)"
   ]
  }
 ],
 "metadata": {
  "kernelspec": {
   "display_name": "Python 3.10.6 ('env': venv)",
   "language": "python",
   "name": "python3"
  },
  "language_info": {
   "codemirror_mode": {
    "name": "ipython",
    "version": 3
   },
   "file_extension": ".py",
   "mimetype": "text/x-python",
   "name": "python",
   "nbconvert_exporter": "python",
   "pygments_lexer": "ipython3",
   "version": "3.10.6"
  },
  "orig_nbformat": 4,
  "vscode": {
   "interpreter": {
    "hash": "e85ebbeeaa8a7c21c88793b697ff30de2015360c7a0ae66c7e207f1d4cd52aaf"
   }
  }
 },
 "nbformat": 4,
 "nbformat_minor": 2
}
